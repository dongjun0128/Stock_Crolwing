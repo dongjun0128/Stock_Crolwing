{
 "cells": [
  {
   "cell_type": "code",
   "execution_count": 1,
   "id": "273973e0",
   "metadata": {},
   "outputs": [],
   "source": [
    "Mypassword = '1541'"
   ]
  },
  {
   "cell_type": "code",
   "execution_count": 2,
   "id": "75843d8b",
   "metadata": {},
   "outputs": [],
   "source": [
    "import pymysql"
   ]
  },
  {
   "cell_type": "code",
   "execution_count": 3,
   "id": "dc36cbbe",
   "metadata": {},
   "outputs": [],
   "source": [
    "conn = pymysql.connect(host = 'localhost', port = 3306, db = 'myfirst_db',\n",
    "                            user = 'root', passwd = Mypassword, autocommit = True)"
   ]
  },
  {
   "cell_type": "code",
   "execution_count": 4,
   "id": "c08764c1",
   "metadata": {},
   "outputs": [],
   "source": [
    "cursor = conn.cursor()"
   ]
  },
  {
   "cell_type": "code",
   "execution_count": 5,
   "id": "9fb25368",
   "metadata": {},
   "outputs": [
    {
     "data": {
      "text/plain": [
       "1"
      ]
     },
     "execution_count": 5,
     "metadata": {},
     "output_type": "execute_result"
    }
   ],
   "source": [
    "cursor.execute(\"SELECT VERSION();\")"
   ]
  },
  {
   "cell_type": "code",
   "execution_count": 6,
   "id": "5053826a",
   "metadata": {},
   "outputs": [],
   "source": [
    "rs= cursor.fetchone()"
   ]
  },
  {
   "cell_type": "code",
   "execution_count": 7,
   "id": "899e87b4",
   "metadata": {},
   "outputs": [
    {
     "name": "stdout",
     "output_type": "stream",
     "text": [
      "MariaDB Version: ('8.0.23',)\n"
     ]
    }
   ],
   "source": [
    "print(\"MariaDB Version: {}\".format(rs))"
   ]
  },
  {
   "cell_type": "code",
   "execution_count": 8,
   "id": "f9d14e39",
   "metadata": {},
   "outputs": [],
   "source": [
    "sql1 = \"show tables\""
   ]
  },
  {
   "cell_type": "code",
   "execution_count": 9,
   "id": "eb2e607c",
   "metadata": {},
   "outputs": [
    {
     "data": {
      "text/plain": [
       "2"
      ]
     },
     "execution_count": 9,
     "metadata": {},
     "output_type": "execute_result"
    }
   ],
   "source": [
    "cursor.execute(sql1)"
   ]
  },
  {
   "cell_type": "code",
   "execution_count": 10,
   "id": "8c32a60c",
   "metadata": {},
   "outputs": [
    {
     "name": "stdout",
     "output_type": "stream",
     "text": [
      "tables:  ('company_info',)\n"
     ]
    }
   ],
   "source": [
    "rs = cursor.fetchone()\n",
    "print(\"tables: \", rs)"
   ]
  },
  {
   "cell_type": "code",
   "execution_count": 11,
   "id": "1ec9c3b5",
   "metadata": {},
   "outputs": [],
   "source": [
    "sql2 =\"select * from company_info\""
   ]
  },
  {
   "cell_type": "code",
   "execution_count": 12,
   "id": "69a4a79f",
   "metadata": {},
   "outputs": [
    {
     "data": {
      "text/plain": [
       "2500"
      ]
     },
     "execution_count": 12,
     "metadata": {},
     "output_type": "execute_result"
    }
   ],
   "source": [
    "cursor.execute(sql2)"
   ]
  },
  {
   "cell_type": "code",
   "execution_count": 13,
   "id": "f69bed2b",
   "metadata": {},
   "outputs": [
    {
     "data": {
      "text/plain": [
       "('000020', '동화약품', datetime.date(2022, 4, 14))"
      ]
     },
     "execution_count": 13,
     "metadata": {},
     "output_type": "execute_result"
    }
   ],
   "source": [
    "rs = cursor.fetchone()\n",
    "rs"
   ]
  },
  {
   "cell_type": "code",
   "execution_count": 14,
   "id": "bd2b55a4",
   "metadata": {},
   "outputs": [
    {
     "data": {
      "text/plain": [
       "2500"
      ]
     },
     "execution_count": 14,
     "metadata": {},
     "output_type": "execute_result"
    }
   ],
   "source": [
    "sql_delete_all =\"delete from company_info\"\n",
    "cursor.execute(sql_delete_all)"
   ]
  },
  {
   "cell_type": "code",
   "execution_count": 15,
   "id": "180cd87b",
   "metadata": {},
   "outputs": [],
   "source": [
    "rs = cursor.fetchone()\n",
    "rs"
   ]
  },
  {
   "cell_type": "code",
   "execution_count": 16,
   "id": "c6f12d5d",
   "metadata": {},
   "outputs": [],
   "source": [
    "sql_drop_table =\"drop table company_info\""
   ]
  },
  {
   "cell_type": "code",
   "execution_count": 17,
   "id": "d65c0024",
   "metadata": {},
   "outputs": [
    {
     "data": {
      "text/plain": [
       "0"
      ]
     },
     "execution_count": 17,
     "metadata": {},
     "output_type": "execute_result"
    }
   ],
   "source": [
    "cursor.execute(sql_drop_table)"
   ]
  },
  {
   "cell_type": "code",
   "execution_count": 18,
   "id": "b94440ec",
   "metadata": {},
   "outputs": [
    {
     "name": "stdout",
     "output_type": "stream",
     "text": [
      "None\n"
     ]
    }
   ],
   "source": [
    "rs = cursor.fetchone()\n",
    "print(rs)"
   ]
  },
  {
   "cell_type": "code",
   "execution_count": 19,
   "id": "0a039aa1",
   "metadata": {},
   "outputs": [],
   "source": [
    "sql_create_table =\"\"\"\n",
    "CREATE TABLE if not exists company_info (\n",
    "    code VARCHAR(20),\n",
    "    company VARCHAR(40),\n",
    "    last_update DATE,\n",
    "    PRIMARY KEY (code)\n",
    "  );\n",
    " \"\"\""
   ]
  },
  {
   "cell_type": "code",
   "execution_count": 20,
   "id": "f901d362",
   "metadata": {},
   "outputs": [
    {
     "data": {
      "text/plain": [
       "0"
      ]
     },
     "execution_count": 20,
     "metadata": {},
     "output_type": "execute_result"
    }
   ],
   "source": [
    "cursor.execute(sql_create_table)"
   ]
  },
  {
   "cell_type": "code",
   "execution_count": 21,
   "id": "e9c53482",
   "metadata": {},
   "outputs": [
    {
     "data": {
      "text/plain": [
       "2"
      ]
     },
     "execution_count": 21,
     "metadata": {},
     "output_type": "execute_result"
    }
   ],
   "source": [
    "sql1 = \"show tables\"\n",
    "cursor.execute(sql1)"
   ]
  },
  {
   "cell_type": "code",
   "execution_count": 22,
   "id": "e0cb72cd",
   "metadata": {},
   "outputs": [
    {
     "name": "stdout",
     "output_type": "stream",
     "text": [
      "tables:  ('company_info',)\n"
     ]
    }
   ],
   "source": [
    "rs = cursor.fetchone()\n",
    "print(\"tables: \", rs)"
   ]
  },
  {
   "cell_type": "code",
   "execution_count": 23,
   "id": "336a8342",
   "metadata": {},
   "outputs": [
    {
     "name": "stdout",
     "output_type": "stream",
     "text": [
      "tables:  ('daily_price',)\n"
     ]
    }
   ],
   "source": [
    "rs = cursor.fetchone()\n",
    "print(\"tables: \", rs)"
   ]
  },
  {
   "cell_type": "code",
   "execution_count": 24,
   "id": "b59ea9f7",
   "metadata": {},
   "outputs": [],
   "source": [
    "conn.close()"
   ]
  },
  {
   "cell_type": "code",
   "execution_count": null,
   "id": "ce1d861f",
   "metadata": {},
   "outputs": [],
   "source": []
  }
 ],
 "metadata": {
  "kernelspec": {
   "display_name": "Python 3",
   "language": "python",
   "name": "python3"
  },
  "language_info": {
   "codemirror_mode": {
    "name": "ipython",
    "version": 3
   },
   "file_extension": ".py",
   "mimetype": "text/x-python",
   "name": "python",
   "nbconvert_exporter": "python",
   "pygments_lexer": "ipython3",
   "version": "3.8.8"
  }
 },
 "nbformat": 4,
 "nbformat_minor": 5
}
