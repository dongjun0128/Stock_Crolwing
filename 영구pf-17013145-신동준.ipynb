{
 "cells": [
  {
   "cell_type": "code",
   "execution_count": 8,
   "id": "bbdb191f",
   "metadata": {},
   "outputs": [],
   "source": [
    "from pandas_datareader import data as pdr\n",
    "import matplotlib.pyplot as plt\n",
    "import FinanceDataReader as fdr\n",
    "import numpy as np\n",
    "import pandas as pd\n",
    "import pandas_datareader as  web\n",
    "import matplotlib.pyplot as pp\n",
    "from datetime import datetime, timedelta, date"
   ]
  },
  {
   "cell_type": "code",
   "execution_count": 10,
   "id": "5ba1abc9",
   "metadata": {},
   "outputs": [],
   "source": [
    "start = datetime(1970,1,2)\n",
    "end = datetime(2021,12,31)"
   ]
  },
  {
   "cell_type": "code",
   "execution_count": 11,
   "id": "55c537f3",
   "metadata": {},
   "outputs": [
    {
     "data": {
      "text/plain": [
       "datetime.datetime(1970, 1, 2, 0, 0)"
      ]
     },
     "execution_count": 11,
     "metadata": {},
     "output_type": "execute_result"
    }
   ],
   "source": [
    "start "
   ]
  },
  {
   "cell_type": "code",
   "execution_count": 12,
   "id": "94367fc8",
   "metadata": {},
   "outputs": [],
   "source": [
    "df_SPY = web.DataReader('SPY','yahoo',start,end)"
   ]
  },
  {
   "cell_type": "code",
   "execution_count": 13,
   "id": "f6beb306",
   "metadata": {},
   "outputs": [
    {
     "data": {
      "text/html": [
       "<div>\n",
       "<style scoped>\n",
       "    .dataframe tbody tr th:only-of-type {\n",
       "        vertical-align: middle;\n",
       "    }\n",
       "\n",
       "    .dataframe tbody tr th {\n",
       "        vertical-align: top;\n",
       "    }\n",
       "\n",
       "    .dataframe thead th {\n",
       "        text-align: right;\n",
       "    }\n",
       "</style>\n",
       "<table border=\"1\" class=\"dataframe\">\n",
       "  <thead>\n",
       "    <tr style=\"text-align: right;\">\n",
       "      <th></th>\n",
       "      <th>High</th>\n",
       "      <th>Low</th>\n",
       "      <th>Open</th>\n",
       "      <th>Close</th>\n",
       "      <th>Volume</th>\n",
       "      <th>Adj Close</th>\n",
       "    </tr>\n",
       "    <tr>\n",
       "      <th>Date</th>\n",
       "      <th></th>\n",
       "      <th></th>\n",
       "      <th></th>\n",
       "      <th></th>\n",
       "      <th></th>\n",
       "      <th></th>\n",
       "    </tr>\n",
       "  </thead>\n",
       "  <tbody>\n",
       "    <tr>\n",
       "      <th>1993-01-29</th>\n",
       "      <td>43.968750</td>\n",
       "      <td>43.750000</td>\n",
       "      <td>43.968750</td>\n",
       "      <td>43.937500</td>\n",
       "      <td>1003200.0</td>\n",
       "      <td>25.547968</td>\n",
       "    </tr>\n",
       "    <tr>\n",
       "      <th>1993-02-01</th>\n",
       "      <td>44.250000</td>\n",
       "      <td>43.968750</td>\n",
       "      <td>43.968750</td>\n",
       "      <td>44.250000</td>\n",
       "      <td>480500.0</td>\n",
       "      <td>25.729692</td>\n",
       "    </tr>\n",
       "    <tr>\n",
       "      <th>1993-02-02</th>\n",
       "      <td>44.375000</td>\n",
       "      <td>44.125000</td>\n",
       "      <td>44.218750</td>\n",
       "      <td>44.343750</td>\n",
       "      <td>201300.0</td>\n",
       "      <td>25.784195</td>\n",
       "    </tr>\n",
       "    <tr>\n",
       "      <th>1993-02-03</th>\n",
       "      <td>44.843750</td>\n",
       "      <td>44.375000</td>\n",
       "      <td>44.406250</td>\n",
       "      <td>44.812500</td>\n",
       "      <td>529400.0</td>\n",
       "      <td>26.056759</td>\n",
       "    </tr>\n",
       "    <tr>\n",
       "      <th>1993-02-04</th>\n",
       "      <td>45.093750</td>\n",
       "      <td>44.468750</td>\n",
       "      <td>44.968750</td>\n",
       "      <td>45.000000</td>\n",
       "      <td>531500.0</td>\n",
       "      <td>26.165785</td>\n",
       "    </tr>\n",
       "    <tr>\n",
       "      <th>...</th>\n",
       "      <td>...</td>\n",
       "      <td>...</td>\n",
       "      <td>...</td>\n",
       "      <td>...</td>\n",
       "      <td>...</td>\n",
       "      <td>...</td>\n",
       "    </tr>\n",
       "    <tr>\n",
       "      <th>2021-12-27</th>\n",
       "      <td>477.309998</td>\n",
       "      <td>472.010010</td>\n",
       "      <td>472.059998</td>\n",
       "      <td>477.260010</td>\n",
       "      <td>56808600.0</td>\n",
       "      <td>475.781921</td>\n",
       "    </tr>\n",
       "    <tr>\n",
       "      <th>2021-12-28</th>\n",
       "      <td>478.809998</td>\n",
       "      <td>476.059998</td>\n",
       "      <td>477.720001</td>\n",
       "      <td>476.869995</td>\n",
       "      <td>47274600.0</td>\n",
       "      <td>475.393127</td>\n",
       "    </tr>\n",
       "    <tr>\n",
       "      <th>2021-12-29</th>\n",
       "      <td>478.559998</td>\n",
       "      <td>475.920013</td>\n",
       "      <td>476.980011</td>\n",
       "      <td>477.480011</td>\n",
       "      <td>54503000.0</td>\n",
       "      <td>476.001251</td>\n",
       "    </tr>\n",
       "    <tr>\n",
       "      <th>2021-12-30</th>\n",
       "      <td>479.000000</td>\n",
       "      <td>475.670013</td>\n",
       "      <td>477.929993</td>\n",
       "      <td>476.160004</td>\n",
       "      <td>55329000.0</td>\n",
       "      <td>474.685333</td>\n",
       "    </tr>\n",
       "    <tr>\n",
       "      <th>2021-12-31</th>\n",
       "      <td>476.859985</td>\n",
       "      <td>474.670013</td>\n",
       "      <td>475.640015</td>\n",
       "      <td>474.959991</td>\n",
       "      <td>65237400.0</td>\n",
       "      <td>473.489044</td>\n",
       "    </tr>\n",
       "  </tbody>\n",
       "</table>\n",
       "<p>7285 rows × 6 columns</p>\n",
       "</div>"
      ],
      "text/plain": [
       "                  High         Low        Open       Close      Volume  \\\n",
       "Date                                                                     \n",
       "1993-01-29   43.968750   43.750000   43.968750   43.937500   1003200.0   \n",
       "1993-02-01   44.250000   43.968750   43.968750   44.250000    480500.0   \n",
       "1993-02-02   44.375000   44.125000   44.218750   44.343750    201300.0   \n",
       "1993-02-03   44.843750   44.375000   44.406250   44.812500    529400.0   \n",
       "1993-02-04   45.093750   44.468750   44.968750   45.000000    531500.0   \n",
       "...                ...         ...         ...         ...         ...   \n",
       "2021-12-27  477.309998  472.010010  472.059998  477.260010  56808600.0   \n",
       "2021-12-28  478.809998  476.059998  477.720001  476.869995  47274600.0   \n",
       "2021-12-29  478.559998  475.920013  476.980011  477.480011  54503000.0   \n",
       "2021-12-30  479.000000  475.670013  477.929993  476.160004  55329000.0   \n",
       "2021-12-31  476.859985  474.670013  475.640015  474.959991  65237400.0   \n",
       "\n",
       "             Adj Close  \n",
       "Date                    \n",
       "1993-01-29   25.547968  \n",
       "1993-02-01   25.729692  \n",
       "1993-02-02   25.784195  \n",
       "1993-02-03   26.056759  \n",
       "1993-02-04   26.165785  \n",
       "...                ...  \n",
       "2021-12-27  475.781921  \n",
       "2021-12-28  475.393127  \n",
       "2021-12-29  476.001251  \n",
       "2021-12-30  474.685333  \n",
       "2021-12-31  473.489044  \n",
       "\n",
       "[7285 rows x 6 columns]"
      ]
     },
     "execution_count": 13,
     "metadata": {},
     "output_type": "execute_result"
    }
   ],
   "source": [
    "df_SPY"
   ]
  },
  {
   "cell_type": "code",
   "execution_count": 14,
   "id": "78de4c02",
   "metadata": {},
   "outputs": [],
   "source": [
    "returns = df_SPY['Adj Close'].pct_change(1).dropna().to_numpy()"
   ]
  },
  {
   "cell_type": "code",
   "execution_count": 15,
   "id": "cfcbbfbe",
   "metadata": {},
   "outputs": [],
   "source": [
    "forward_days = 5 * 253\n",
    "start_price = float(df_SPY['Adj Close'].tail(1))"
   ]
  },
  {
   "cell_type": "code",
   "execution_count": 16,
   "id": "69a8ab48",
   "metadata": {},
   "outputs": [],
   "source": [
    "simulated = np.random.choice(returns,size=forward_days,replace=True)\n",
    "simulated_equity = start_price*(1+simulated).cumprod()\n",
    "rolling_max = np.maximum.accumulate(simulated_equity)\n",
    "max_dd = np.max((rolling_max - simulated_equity)/rolling_max)"
   ]
  },
  {
   "cell_type": "code",
   "execution_count": 17,
   "id": "4c3d8a77",
   "metadata": {},
   "outputs": [
    {
     "data": {
      "text/plain": [
       "[<matplotlib.lines.Line2D at 0x1a3f47ab5e0>]"
      ]
     },
     "execution_count": 17,
     "metadata": {},
     "output_type": "execute_result"
    },
    {
     "data": {
      "image/png": "[encoded data removed]",
      "text/plain": [
       "<Figure size 432x288 with 1 Axes>"
      ]
     },
     "metadata": {
      "needs_background": "light"
     },
     "output_type": "display_data"
    }
   ],
   "source": [
    "pp.plot(simulated_equity)"
   ]
  },
  {
   "cell_type": "code",
   "execution_count": 18,
   "id": "c7d02f8f",
   "metadata": {},
   "outputs": [],
   "source": [
    "dd = np.array([])\n",
    "for n in range(2000):\n",
    "  simulated = np.random.choice(returns, size=forward_days,  replace=True)\n",
    "  simulated_equity = start_price*(1+simulated).cumprod()\n",
    "  rolling_max = np.maximum.accumulate(simulated_equity)\n",
    "  max_dd = np.max((rolling_max - simulated_equity)/rolling_max)\n",
    "  dd = np.append(dd,max_dd)"
   ]
  },
  {
   "cell_type": "code",
   "execution_count": 19,
   "id": "bfdc603d",
   "metadata": {},
   "outputs": [
    {
     "data": {
      "text/plain": [
       "(array([ 82., 404., 545., 440., 273., 149.,  68.,  27.,   8.,   4.]),\n",
       " array([0.10879953, 0.16605157, 0.22330361, 0.28055565, 0.33780768,\n",
       "        0.39505972, 0.45231176, 0.5095638 , 0.56681583, 0.62406787,\n",
       "        0.68131991]),\n",
       " <BarContainer object of 10 artists>)"
      ]
     },
     "execution_count": 19,
     "metadata": {},
     "output_type": "execute_result"
    },
    {
     "data": {
      "image/png": "[encoded data removed]",
      "text/plain": [
       "<Figure size 432x288 with 1 Axes>"
      ]
     },
     "metadata": {
      "needs_background": "light"
     },
     "output_type": "display_data"
    }
   ],
   "source": [
    "pp.hist(dd)"
   ]
  },
  {
   "cell_type": "code",
   "execution_count": 20,
   "id": "1ec91cab",
   "metadata": {},
   "outputs": [
    {
     "data": {
      "image/png": "[encoded data removed]",
      "text/plain": [
       "<Figure size 432x288 with 1 Axes>"
      ]
     },
     "metadata": {
      "needs_background": "light"
     },
     "output_type": "display_data"
    }
   ],
   "source": [
    "# We are going to use a trailing 252 trading day window\n",
    "window = 252\n",
    "\n",
    "# Calculate the max drawdown in the past window days for each day in the series.\n",
    "# Use min_periods=1 if you want to let the first 252 days data have an expanding window\n",
    "Roll_Max = df_SPY['Adj Close'].rolling(window, min_periods=1).max()\n",
    "Daily_Drawdown = df_SPY['Adj Close']/Roll_Max - 1.0\n",
    "\n",
    "# Next we calculate the minimum (negative) daily drawdown in that window.\n",
    "# Again, use min_periods=1 if you want to allow the expanding window\n",
    "Max_Daily_Drawdown = Daily_Drawdown.rolling(window, min_periods=1).min()\n",
    "\n",
    "# Plot the results\n",
    "Daily_Drawdown.plot()\n",
    "pp.show()"
   ]
  },
  {
   "cell_type": "code",
   "execution_count": 21,
   "id": "012d7e22",
   "metadata": {},
   "outputs": [],
   "source": [
    "start = datetime(1970,1,2)\n",
    "end = datetime(2021,12,31)\n",
    "\n",
    "df_SPY = pdr.DataReader('SPY','yahoo',start,end) #미국 주식\n",
    "df_TLT = pdr.DataReader('TLT','yahoo',start,end) #미국 채권\n",
    "df_GLD = pdr.DataReader('GLD','yahoo',start,end) #금\n",
    "df_BIL = pdr.DataReader('BIL','yahoo',start,end) #미국 초단기 채권"
   ]
  },
  {
   "cell_type": "code",
   "execution_count": 22,
   "id": "546f40c5",
   "metadata": {},
   "outputs": [],
   "source": [
    "#LOG 수익률 계산\n",
    "SPY_PROFIT = df_SPY['Close'].pct_change()*100\n",
    "SPY_PROFIT.iloc[0] = 0\n",
    "\n",
    "TLT_PROFIT = df_TLT['Close'].pct_change()*100\n",
    "TLT_PROFIT.iloc[0] = 0\n",
    "\n",
    "GLD_PROFIT = df_GLD['Close'].pct_change()*100\n",
    "GLD_PROFIT.iloc[0] = 0\n",
    "\n",
    "BIL_PROFIT = df_BIL['Close'].pct_change()*100\n",
    "BIL_PROFIT.iloc[0] = 0"
   ]
  },
  {
   "cell_type": "code",
   "execution_count": 30,
   "id": "bd7b2ad3",
   "metadata": {},
   "outputs": [
    {
     "name": "stderr",
     "output_type": "stream",
     "text": [
      "C:\\Users\\sjo20\\anaconda3\\lib\\site-packages\\pandas\\core\\arraylike.py:358: RuntimeWarning: invalid value encountered in log\n",
      "  result = getattr(ufunc, method)(*inputs, **kwargs)\n"
     ]
    }
   ],
   "source": [
    "SPY_LOG_PROFIT = np.log(SPY_PROFIT +1)\n",
    "TLT_LOG_PROFIT = np.log(TLT_PROFIT +1)\n",
    "GLD_LOG_PROFIT = np.log(GLD_PROFIT +1)\n",
    "BIL_LOG_PROFIT = np.log(BIL_PROFIT +1)"
   ]
  },
  {
   "cell_type": "code",
   "execution_count": 31,
   "id": "093974c4",
   "metadata": {},
   "outputs": [],
   "source": [
    "#LOG 누적 수익률\n",
    "SPY_LOG_PROFIT_ACC = SPY_LOG_PROFIT.cumsum()\n",
    "TLT_LOG_PROFIT_ACC = TLT_LOG_PROFIT.cumsum()\n",
    "GLD_LOG_PROFIT_ACC = GLD_LOG_PROFIT.cumsum()\n",
    "BIL_LOG_PROFIT_ACC = BIL_LOG_PROFIT.cumsum()"
   ]
  },
  {
   "cell_type": "code",
   "execution_count": 32,
   "id": "35da247a",
   "metadata": {},
   "outputs": [
    {
     "data": {
      "text/plain": [
       "Date\n",
       "2007-05-30   -18.851953\n",
       "2007-05-31   -18.725968\n",
       "2007-06-01   -19.018858\n",
       "2007-06-04   -18.881318\n",
       "2007-06-05   -19.328306\n",
       "                ...    \n",
       "2021-12-23    20.065164\n",
       "2021-12-27    20.395708\n",
       "2021-12-28    20.104504\n",
       "2021-12-30    20.336399\n",
       "2021-12-31    20.438736\n",
       "Name: Close, Length: 2531, dtype: float64"
      ]
     },
     "execution_count": 32,
     "metadata": {},
     "output_type": "execute_result"
    }
   ],
   "source": [
    "pf = (SPY_LOG_PROFIT_ACC * 0.25) + (TLT_LOG_PROFIT_ACC * 0.25) +(GLD_LOG_PROFIT_ACC * 0.25) +(BIL_LOG_PROFIT_ACC * 0.25)\n",
    "\n",
    "pf = pf.dropna()\n",
    "pf"
   ]
  },
  {
   "cell_type": "code",
   "execution_count": 33,
   "id": "4655cd7b",
   "metadata": {},
   "outputs": [
    {
     "data": {
      "text/plain": [
       "Date\n",
       "2007-05-30     99.084999\n",
       "2007-05-31     99.210001\n",
       "2007-06-01     99.432501\n",
       "2007-06-04     99.565002\n",
       "2007-06-05     99.235003\n",
       "                 ...    \n",
       "2021-12-27    221.735003\n",
       "2021-12-28    221.304996\n",
       "2021-12-29    221.040001\n",
       "2021-12-30    221.322500\n",
       "2021-12-31    221.385000\n",
       "Name: Close, Length: 3676, dtype: float64"
      ]
     },
     "execution_count": 33,
     "metadata": {},
     "output_type": "execute_result"
    }
   ],
   "source": [
    "pf_data = (df_SPY['Close']*0.25) + (df_TLT['Close']*0.25) + (df_GLD['Close']*0.25) + (df_BIL['Close']*0.25)\n",
    "\n",
    "pf_data = pf_data.dropna()\n",
    "pf_data"
   ]
  },
  {
   "cell_type": "code",
   "execution_count": 34,
   "id": "eb34f2ed",
   "metadata": {},
   "outputs": [
    {
     "name": "stdout",
     "output_type": "stream",
     "text": [
      "Date\n",
      "2007-05-30    0.000000\n",
      "2007-05-31    0.000000\n",
      "2007-06-01    0.000000\n",
      "2007-06-04    0.000000\n",
      "2007-06-05   -0.331442\n",
      "                ...   \n",
      "2021-12-27   -2.435596\n",
      "2021-12-28   -2.435596\n",
      "2021-12-29   -2.435596\n",
      "2021-12-30   -1.824427\n",
      "2021-12-31   -1.824427\n",
      "Name: Close, Length: 3676, dtype: float64\n"
     ]
    }
   ],
   "source": [
    "window = 20\n",
    "max_window = pf_data.rolling(window, min_periods=1).max()\n",
    "dd=((pf_data/max_window)-1)*100\n",
    "mdd = dd.rolling(window,min_periods=1 ).min()\n",
    "\n",
    "print(mdd)"
   ]
  },
  {
   "cell_type": "code",
   "execution_count": 35,
   "id": "d24b0a73",
   "metadata": {},
   "outputs": [
    {
     "data": {
      "image/png": "[encoded data removed]",
      "text/plain": [
       "<Figure size 432x288 with 1 Axes>"
      ]
     },
     "metadata": {
      "needs_background": "light"
     },
     "output_type": "display_data"
    }
   ],
   "source": [
    "plt.plot(pf.index, pf,'b',label='CAGR')\n",
    "\n",
    "plt.grid(True)\n",
    "plt.legend(loc='best')\n",
    "plt.show()"
   ]
  },
  {
   "cell_type": "code",
   "execution_count": 36,
   "id": "26fa464d",
   "metadata": {},
   "outputs": [
    {
     "data": {
      "image/png": "[encoded data removed]",
      "text/plain": [
       "<Figure size 432x288 with 1 Axes>"
      ]
     },
     "metadata": {
      "needs_background": "light"
     },
     "output_type": "display_data"
    }
   ],
   "source": [
    "plt.plot(mdd.index, mdd, 'r', label='MDD')\n",
    "\n",
    "plt.grid(True)\n",
    "plt.legend(loc='best')\n",
    "plt.show()"
   ]
  },
  {
   "cell_type": "code",
   "execution_count": null,
   "id": "a721a9ae",
   "metadata": {},
   "outputs": [],
   "source": []
  },
  {
   "cell_type": "code",
   "execution_count": null,
   "id": "fc371543",
   "metadata": {},
   "outputs": [],
   "source": []
  }
 ],
 "metadata": {
  "kernelspec": {
   "display_name": "Python 3",
   "language": "python",
   "name": "python3"
  },
  "language_info": {
   "codemirror_mode": {
    "name": "ipython",
    "version": 3
   },
   "file_extension": ".py",
   "mimetype": "text/x-python",
   "name": "python",
   "nbconvert_exporter": "python",
   "pygments_lexer": "ipython3",
   "version": "3.8.8"
  }
 },
 "nbformat": 4,
 "nbformat_minor": 5
}
