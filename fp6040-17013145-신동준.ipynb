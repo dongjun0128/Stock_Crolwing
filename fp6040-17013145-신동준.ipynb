{
 "cells": [
  {
   "cell_type": "code",
   "execution_count": 35,
   "id": "675088b9",
   "metadata": {},
   "outputs": [],
   "source": [
    "from pandas_datareader import data as pdr\n",
    "import yfinance as yf\n",
    "yf.pdr_override()\n",
    "import matplotlib.pyplot as plt\n",
    "import FinanceDataReader as fdr\n",
    "import numpy as np"
   ]
  },
  {
   "cell_type": "code",
   "execution_count": 4,
   "id": "b9ec8cd4",
   "metadata": {},
   "outputs": [],
   "source": [
    "ks11 = fdr.DataReader('KS11', '2015-01-01')"
   ]
  },
  {
   "cell_type": "code",
   "execution_count": 5,
   "id": "b09dbcf0",
   "metadata": {},
   "outputs": [
    {
     "data": {
      "text/html": [
       "<div>\n",
       "<style scoped>\n",
       "    .dataframe tbody tr th:only-of-type {\n",
       "        vertical-align: middle;\n",
       "    }\n",
       "\n",
       "    .dataframe tbody tr th {\n",
       "        vertical-align: top;\n",
       "    }\n",
       "\n",
       "    .dataframe thead th {\n",
       "        text-align: right;\n",
       "    }\n",
       "</style>\n",
       "<table border=\"1\" class=\"dataframe\">\n",
       "  <thead>\n",
       "    <tr style=\"text-align: right;\">\n",
       "      <th></th>\n",
       "      <th>Close</th>\n",
       "      <th>Open</th>\n",
       "      <th>High</th>\n",
       "      <th>Low</th>\n",
       "      <th>Volume</th>\n",
       "      <th>Change</th>\n",
       "    </tr>\n",
       "    <tr>\n",
       "      <th>Date</th>\n",
       "      <th></th>\n",
       "      <th></th>\n",
       "      <th></th>\n",
       "      <th></th>\n",
       "      <th></th>\n",
       "      <th></th>\n",
       "    </tr>\n",
       "  </thead>\n",
       "  <tbody>\n",
       "    <tr>\n",
       "      <th>2015-01-02</th>\n",
       "      <td>1926.44</td>\n",
       "      <td>1914.24</td>\n",
       "      <td>1929.15</td>\n",
       "      <td>1909.67</td>\n",
       "      <td>258780000.0</td>\n",
       "      <td>0.0057</td>\n",
       "    </tr>\n",
       "    <tr>\n",
       "      <th>2015-01-05</th>\n",
       "      <td>1915.75</td>\n",
       "      <td>1921.96</td>\n",
       "      <td>1921.96</td>\n",
       "      <td>1903.37</td>\n",
       "      <td>313440000.0</td>\n",
       "      <td>-0.0055</td>\n",
       "    </tr>\n",
       "    <tr>\n",
       "      <th>2015-01-06</th>\n",
       "      <td>1882.45</td>\n",
       "      <td>1895.48</td>\n",
       "      <td>1900.02</td>\n",
       "      <td>1877.38</td>\n",
       "      <td>303690000.0</td>\n",
       "      <td>-0.0174</td>\n",
       "    </tr>\n",
       "    <tr>\n",
       "      <th>2015-01-07</th>\n",
       "      <td>1883.83</td>\n",
       "      <td>1878.90</td>\n",
       "      <td>1887.60</td>\n",
       "      <td>1876.27</td>\n",
       "      <td>280510000.0</td>\n",
       "      <td>0.0007</td>\n",
       "    </tr>\n",
       "    <tr>\n",
       "      <th>2015-01-08</th>\n",
       "      <td>1904.65</td>\n",
       "      <td>1895.85</td>\n",
       "      <td>1907.23</td>\n",
       "      <td>1891.77</td>\n",
       "      <td>262210000.0</td>\n",
       "      <td>0.0111</td>\n",
       "    </tr>\n",
       "    <tr>\n",
       "      <th>...</th>\n",
       "      <td>...</td>\n",
       "      <td>...</td>\n",
       "      <td>...</td>\n",
       "      <td>...</td>\n",
       "      <td>...</td>\n",
       "      <td>...</td>\n",
       "    </tr>\n",
       "    <tr>\n",
       "      <th>2022-05-25</th>\n",
       "      <td>2617.22</td>\n",
       "      <td>2621.75</td>\n",
       "      <td>2630.17</td>\n",
       "      <td>2602.94</td>\n",
       "      <td>712610000.0</td>\n",
       "      <td>0.0044</td>\n",
       "    </tr>\n",
       "    <tr>\n",
       "      <th>2022-05-26</th>\n",
       "      <td>2612.45</td>\n",
       "      <td>2616.99</td>\n",
       "      <td>2641.91</td>\n",
       "      <td>2602.01</td>\n",
       "      <td>595850000.0</td>\n",
       "      <td>-0.0018</td>\n",
       "    </tr>\n",
       "    <tr>\n",
       "      <th>2022-05-27</th>\n",
       "      <td>2638.05</td>\n",
       "      <td>2640.75</td>\n",
       "      <td>2644.71</td>\n",
       "      <td>2631.49</td>\n",
       "      <td>590810000.0</td>\n",
       "      <td>0.0098</td>\n",
       "    </tr>\n",
       "    <tr>\n",
       "      <th>2022-05-30</th>\n",
       "      <td>2669.66</td>\n",
       "      <td>2662.31</td>\n",
       "      <td>2672.74</td>\n",
       "      <td>2654.18</td>\n",
       "      <td>469800000.0</td>\n",
       "      <td>0.0120</td>\n",
       "    </tr>\n",
       "    <tr>\n",
       "      <th>2022-05-31</th>\n",
       "      <td>2685.90</td>\n",
       "      <td>2666.88</td>\n",
       "      <td>2685.90</td>\n",
       "      <td>2654.32</td>\n",
       "      <td>671680000.0</td>\n",
       "      <td>0.0061</td>\n",
       "    </tr>\n",
       "  </tbody>\n",
       "</table>\n",
       "<p>1824 rows × 6 columns</p>\n",
       "</div>"
      ],
      "text/plain": [
       "              Close     Open     High      Low       Volume  Change\n",
       "Date                                                               \n",
       "2015-01-02  1926.44  1914.24  1929.15  1909.67  258780000.0  0.0057\n",
       "2015-01-05  1915.75  1921.96  1921.96  1903.37  313440000.0 -0.0055\n",
       "2015-01-06  1882.45  1895.48  1900.02  1877.38  303690000.0 -0.0174\n",
       "2015-01-07  1883.83  1878.90  1887.60  1876.27  280510000.0  0.0007\n",
       "2015-01-08  1904.65  1895.85  1907.23  1891.77  262210000.0  0.0111\n",
       "...             ...      ...      ...      ...          ...     ...\n",
       "2022-05-25  2617.22  2621.75  2630.17  2602.94  712610000.0  0.0044\n",
       "2022-05-26  2612.45  2616.99  2641.91  2602.01  595850000.0 -0.0018\n",
       "2022-05-27  2638.05  2640.75  2644.71  2631.49  590810000.0  0.0098\n",
       "2022-05-30  2669.66  2662.31  2672.74  2654.18  469800000.0  0.0120\n",
       "2022-05-31  2685.90  2666.88  2685.90  2654.32  671680000.0  0.0061\n",
       "\n",
       "[1824 rows x 6 columns]"
      ]
     },
     "execution_count": 5,
     "metadata": {},
     "output_type": "execute_result"
    }
   ],
   "source": [
    "ks11"
   ]
  },
  {
   "cell_type": "code",
   "execution_count": 6,
   "id": "b5bb80ac",
   "metadata": {},
   "outputs": [],
   "source": [
    "df1 = fdr.DataReader('KR1YT=RR') # 1년만기 한국국채 수익률\n",
    "df2 = fdr.DataReader('KR10YT=RR') # 10년만기 한국국채 수익률"
   ]
  },
  {
   "cell_type": "code",
   "execution_count": 7,
   "id": "39c4776f",
   "metadata": {},
   "outputs": [
    {
     "data": {
      "text/html": [
       "<div>\n",
       "<style scoped>\n",
       "    .dataframe tbody tr th:only-of-type {\n",
       "        vertical-align: middle;\n",
       "    }\n",
       "\n",
       "    .dataframe tbody tr th {\n",
       "        vertical-align: top;\n",
       "    }\n",
       "\n",
       "    .dataframe thead th {\n",
       "        text-align: right;\n",
       "    }\n",
       "</style>\n",
       "<table border=\"1\" class=\"dataframe\">\n",
       "  <thead>\n",
       "    <tr style=\"text-align: right;\">\n",
       "      <th></th>\n",
       "      <th>Close</th>\n",
       "      <th>Open</th>\n",
       "      <th>High</th>\n",
       "      <th>Low</th>\n",
       "      <th>Change</th>\n",
       "    </tr>\n",
       "    <tr>\n",
       "      <th>Date</th>\n",
       "      <th></th>\n",
       "      <th></th>\n",
       "      <th></th>\n",
       "      <th></th>\n",
       "      <th></th>\n",
       "    </tr>\n",
       "  </thead>\n",
       "  <tbody>\n",
       "    <tr>\n",
       "      <th>1995-05-03</th>\n",
       "      <td>14.550</td>\n",
       "      <td>14.550</td>\n",
       "      <td>14.550</td>\n",
       "      <td>14.550</td>\n",
       "      <td>0.0069</td>\n",
       "    </tr>\n",
       "    <tr>\n",
       "      <th>1995-05-04</th>\n",
       "      <td>14.550</td>\n",
       "      <td>14.550</td>\n",
       "      <td>14.550</td>\n",
       "      <td>14.550</td>\n",
       "      <td>0.0000</td>\n",
       "    </tr>\n",
       "    <tr>\n",
       "      <th>1995-05-06</th>\n",
       "      <td>14.500</td>\n",
       "      <td>14.500</td>\n",
       "      <td>14.500</td>\n",
       "      <td>14.500</td>\n",
       "      <td>-0.0034</td>\n",
       "    </tr>\n",
       "    <tr>\n",
       "      <th>1995-05-08</th>\n",
       "      <td>14.500</td>\n",
       "      <td>14.500</td>\n",
       "      <td>14.500</td>\n",
       "      <td>14.500</td>\n",
       "      <td>0.0000</td>\n",
       "    </tr>\n",
       "    <tr>\n",
       "      <th>1995-05-09</th>\n",
       "      <td>14.500</td>\n",
       "      <td>14.500</td>\n",
       "      <td>14.500</td>\n",
       "      <td>14.500</td>\n",
       "      <td>0.0000</td>\n",
       "    </tr>\n",
       "    <tr>\n",
       "      <th>...</th>\n",
       "      <td>...</td>\n",
       "      <td>...</td>\n",
       "      <td>...</td>\n",
       "      <td>...</td>\n",
       "      <td>...</td>\n",
       "    </tr>\n",
       "    <tr>\n",
       "      <th>2022-05-27</th>\n",
       "      <td>2.242</td>\n",
       "      <td>2.240</td>\n",
       "      <td>2.242</td>\n",
       "      <td>2.240</td>\n",
       "      <td>-0.0256</td>\n",
       "    </tr>\n",
       "    <tr>\n",
       "      <th>2022-05-28</th>\n",
       "      <td>2.242</td>\n",
       "      <td>2.242</td>\n",
       "      <td>2.242</td>\n",
       "      <td>2.242</td>\n",
       "      <td>0.0000</td>\n",
       "    </tr>\n",
       "    <tr>\n",
       "      <th>2022-05-29</th>\n",
       "      <td>2.242</td>\n",
       "      <td>2.242</td>\n",
       "      <td>2.242</td>\n",
       "      <td>2.242</td>\n",
       "      <td>0.0000</td>\n",
       "    </tr>\n",
       "    <tr>\n",
       "      <th>2022-05-30</th>\n",
       "      <td>2.230</td>\n",
       "      <td>2.230</td>\n",
       "      <td>2.230</td>\n",
       "      <td>2.230</td>\n",
       "      <td>-0.0054</td>\n",
       "    </tr>\n",
       "    <tr>\n",
       "      <th>2022-05-31</th>\n",
       "      <td>2.253</td>\n",
       "      <td>2.260</td>\n",
       "      <td>2.260</td>\n",
       "      <td>2.253</td>\n",
       "      <td>0.0103</td>\n",
       "    </tr>\n",
       "  </tbody>\n",
       "</table>\n",
       "<p>6842 rows × 5 columns</p>\n",
       "</div>"
      ],
      "text/plain": [
       "             Close    Open    High     Low  Change\n",
       "Date                                              \n",
       "1995-05-03  14.550  14.550  14.550  14.550  0.0069\n",
       "1995-05-04  14.550  14.550  14.550  14.550  0.0000\n",
       "1995-05-06  14.500  14.500  14.500  14.500 -0.0034\n",
       "1995-05-08  14.500  14.500  14.500  14.500  0.0000\n",
       "1995-05-09  14.500  14.500  14.500  14.500  0.0000\n",
       "...            ...     ...     ...     ...     ...\n",
       "2022-05-27   2.242   2.240   2.242   2.240 -0.0256\n",
       "2022-05-28   2.242   2.242   2.242   2.242  0.0000\n",
       "2022-05-29   2.242   2.242   2.242   2.242  0.0000\n",
       "2022-05-30   2.230   2.230   2.230   2.230 -0.0054\n",
       "2022-05-31   2.253   2.260   2.260   2.253  0.0103\n",
       "\n",
       "[6842 rows x 5 columns]"
      ]
     },
     "execution_count": 7,
     "metadata": {},
     "output_type": "execute_result"
    }
   ],
   "source": [
    "df1"
   ]
  },
  {
   "cell_type": "code",
   "execution_count": 8,
   "id": "b1ad5739",
   "metadata": {},
   "outputs": [
    {
     "data": {
      "text/html": [
       "<div>\n",
       "<style scoped>\n",
       "    .dataframe tbody tr th:only-of-type {\n",
       "        vertical-align: middle;\n",
       "    }\n",
       "\n",
       "    .dataframe tbody tr th {\n",
       "        vertical-align: top;\n",
       "    }\n",
       "\n",
       "    .dataframe thead th {\n",
       "        text-align: right;\n",
       "    }\n",
       "</style>\n",
       "<table border=\"1\" class=\"dataframe\">\n",
       "  <thead>\n",
       "    <tr style=\"text-align: right;\">\n",
       "      <th></th>\n",
       "      <th>Close</th>\n",
       "      <th>Open</th>\n",
       "      <th>High</th>\n",
       "      <th>Low</th>\n",
       "      <th>Change</th>\n",
       "    </tr>\n",
       "    <tr>\n",
       "      <th>Date</th>\n",
       "      <th></th>\n",
       "      <th></th>\n",
       "      <th></th>\n",
       "      <th></th>\n",
       "      <th></th>\n",
       "    </tr>\n",
       "  </thead>\n",
       "  <tbody>\n",
       "    <tr>\n",
       "      <th>2000-10-26</th>\n",
       "      <td>8.300</td>\n",
       "      <td>8.300</td>\n",
       "      <td>8.300</td>\n",
       "      <td>8.300</td>\n",
       "      <td>-0.0060</td>\n",
       "    </tr>\n",
       "    <tr>\n",
       "      <th>2000-10-27</th>\n",
       "      <td>8.240</td>\n",
       "      <td>8.240</td>\n",
       "      <td>8.240</td>\n",
       "      <td>8.240</td>\n",
       "      <td>-0.0072</td>\n",
       "    </tr>\n",
       "    <tr>\n",
       "      <th>2000-10-28</th>\n",
       "      <td>8.240</td>\n",
       "      <td>8.240</td>\n",
       "      <td>8.240</td>\n",
       "      <td>8.240</td>\n",
       "      <td>0.0000</td>\n",
       "    </tr>\n",
       "    <tr>\n",
       "      <th>2000-10-30</th>\n",
       "      <td>8.220</td>\n",
       "      <td>8.220</td>\n",
       "      <td>8.220</td>\n",
       "      <td>8.220</td>\n",
       "      <td>-0.0024</td>\n",
       "    </tr>\n",
       "    <tr>\n",
       "      <th>2000-11-01</th>\n",
       "      <td>8.150</td>\n",
       "      <td>8.150</td>\n",
       "      <td>8.150</td>\n",
       "      <td>8.150</td>\n",
       "      <td>-0.0085</td>\n",
       "    </tr>\n",
       "    <tr>\n",
       "      <th>...</th>\n",
       "      <td>...</td>\n",
       "      <td>...</td>\n",
       "      <td>...</td>\n",
       "      <td>...</td>\n",
       "      <td>...</td>\n",
       "    </tr>\n",
       "    <tr>\n",
       "      <th>2022-05-27</th>\n",
       "      <td>3.211</td>\n",
       "      <td>3.200</td>\n",
       "      <td>3.242</td>\n",
       "      <td>3.190</td>\n",
       "      <td>-0.0086</td>\n",
       "    </tr>\n",
       "    <tr>\n",
       "      <th>2022-05-28</th>\n",
       "      <td>3.217</td>\n",
       "      <td>3.217</td>\n",
       "      <td>3.217</td>\n",
       "      <td>3.217</td>\n",
       "      <td>0.0019</td>\n",
       "    </tr>\n",
       "    <tr>\n",
       "      <th>2022-05-29</th>\n",
       "      <td>3.217</td>\n",
       "      <td>3.217</td>\n",
       "      <td>3.217</td>\n",
       "      <td>3.217</td>\n",
       "      <td>0.0000</td>\n",
       "    </tr>\n",
       "    <tr>\n",
       "      <th>2022-05-30</th>\n",
       "      <td>3.205</td>\n",
       "      <td>3.223</td>\n",
       "      <td>3.229</td>\n",
       "      <td>3.183</td>\n",
       "      <td>-0.0037</td>\n",
       "    </tr>\n",
       "    <tr>\n",
       "      <th>2022-05-31</th>\n",
       "      <td>3.324</td>\n",
       "      <td>3.235</td>\n",
       "      <td>3.326</td>\n",
       "      <td>3.230</td>\n",
       "      <td>0.0371</td>\n",
       "    </tr>\n",
       "  </tbody>\n",
       "</table>\n",
       "<p>5733 rows × 5 columns</p>\n",
       "</div>"
      ],
      "text/plain": [
       "            Close   Open   High    Low  Change\n",
       "Date                                          \n",
       "2000-10-26  8.300  8.300  8.300  8.300 -0.0060\n",
       "2000-10-27  8.240  8.240  8.240  8.240 -0.0072\n",
       "2000-10-28  8.240  8.240  8.240  8.240  0.0000\n",
       "2000-10-30  8.220  8.220  8.220  8.220 -0.0024\n",
       "2000-11-01  8.150  8.150  8.150  8.150 -0.0085\n",
       "...           ...    ...    ...    ...     ...\n",
       "2022-05-27  3.211  3.200  3.242  3.190 -0.0086\n",
       "2022-05-28  3.217  3.217  3.217  3.217  0.0019\n",
       "2022-05-29  3.217  3.217  3.217  3.217  0.0000\n",
       "2022-05-30  3.205  3.223  3.229  3.183 -0.0037\n",
       "2022-05-31  3.324  3.235  3.326  3.230  0.0371\n",
       "\n",
       "[5733 rows x 5 columns]"
      ]
     },
     "execution_count": 8,
     "metadata": {},
     "output_type": "execute_result"
    }
   ],
   "source": [
    "df2"
   ]
  },
  {
   "cell_type": "code",
   "execution_count": 9,
   "id": "18478d3a",
   "metadata": {},
   "outputs": [],
   "source": [
    "df1_PROFIT = df1.pct_change()"
   ]
  },
  {
   "cell_type": "code",
   "execution_count": 10,
   "id": "aa0e1cec",
   "metadata": {},
   "outputs": [
    {
     "data": {
      "text/html": [
       "<div>\n",
       "<style scoped>\n",
       "    .dataframe tbody tr th:only-of-type {\n",
       "        vertical-align: middle;\n",
       "    }\n",
       "\n",
       "    .dataframe tbody tr th {\n",
       "        vertical-align: top;\n",
       "    }\n",
       "\n",
       "    .dataframe thead th {\n",
       "        text-align: right;\n",
       "    }\n",
       "</style>\n",
       "<table border=\"1\" class=\"dataframe\">\n",
       "  <thead>\n",
       "    <tr style=\"text-align: right;\">\n",
       "      <th></th>\n",
       "      <th>Close</th>\n",
       "      <th>Open</th>\n",
       "      <th>High</th>\n",
       "      <th>Low</th>\n",
       "      <th>Change</th>\n",
       "    </tr>\n",
       "    <tr>\n",
       "      <th>Date</th>\n",
       "      <th></th>\n",
       "      <th></th>\n",
       "      <th></th>\n",
       "      <th></th>\n",
       "      <th></th>\n",
       "    </tr>\n",
       "  </thead>\n",
       "  <tbody>\n",
       "    <tr>\n",
       "      <th>1995-05-03</th>\n",
       "      <td>NaN</td>\n",
       "      <td>NaN</td>\n",
       "      <td>NaN</td>\n",
       "      <td>NaN</td>\n",
       "      <td>NaN</td>\n",
       "    </tr>\n",
       "    <tr>\n",
       "      <th>1995-05-04</th>\n",
       "      <td>0.000000</td>\n",
       "      <td>0.000000</td>\n",
       "      <td>0.000000</td>\n",
       "      <td>0.000000</td>\n",
       "      <td>-1.000000</td>\n",
       "    </tr>\n",
       "    <tr>\n",
       "      <th>1995-05-06</th>\n",
       "      <td>-0.003436</td>\n",
       "      <td>-0.003436</td>\n",
       "      <td>-0.003436</td>\n",
       "      <td>-0.003436</td>\n",
       "      <td>-inf</td>\n",
       "    </tr>\n",
       "    <tr>\n",
       "      <th>1995-05-08</th>\n",
       "      <td>0.000000</td>\n",
       "      <td>0.000000</td>\n",
       "      <td>0.000000</td>\n",
       "      <td>0.000000</td>\n",
       "      <td>-1.000000</td>\n",
       "    </tr>\n",
       "    <tr>\n",
       "      <th>1995-05-09</th>\n",
       "      <td>0.000000</td>\n",
       "      <td>0.000000</td>\n",
       "      <td>0.000000</td>\n",
       "      <td>0.000000</td>\n",
       "      <td>NaN</td>\n",
       "    </tr>\n",
       "    <tr>\n",
       "      <th>...</th>\n",
       "      <td>...</td>\n",
       "      <td>...</td>\n",
       "      <td>...</td>\n",
       "      <td>...</td>\n",
       "      <td>...</td>\n",
       "    </tr>\n",
       "    <tr>\n",
       "      <th>2022-05-27</th>\n",
       "      <td>-0.025641</td>\n",
       "      <td>-0.026087</td>\n",
       "      <td>-0.026064</td>\n",
       "      <td>-0.026087</td>\n",
       "      <td>-7.564103</td>\n",
       "    </tr>\n",
       "    <tr>\n",
       "      <th>2022-05-28</th>\n",
       "      <td>0.000000</td>\n",
       "      <td>0.000893</td>\n",
       "      <td>0.000000</td>\n",
       "      <td>0.000893</td>\n",
       "      <td>-1.000000</td>\n",
       "    </tr>\n",
       "    <tr>\n",
       "      <th>2022-05-29</th>\n",
       "      <td>0.000000</td>\n",
       "      <td>0.000000</td>\n",
       "      <td>0.000000</td>\n",
       "      <td>0.000000</td>\n",
       "      <td>NaN</td>\n",
       "    </tr>\n",
       "    <tr>\n",
       "      <th>2022-05-30</th>\n",
       "      <td>-0.005352</td>\n",
       "      <td>-0.005352</td>\n",
       "      <td>-0.005352</td>\n",
       "      <td>-0.005352</td>\n",
       "      <td>-inf</td>\n",
       "    </tr>\n",
       "    <tr>\n",
       "      <th>2022-05-31</th>\n",
       "      <td>0.010314</td>\n",
       "      <td>0.013453</td>\n",
       "      <td>0.013453</td>\n",
       "      <td>0.010314</td>\n",
       "      <td>-2.907407</td>\n",
       "    </tr>\n",
       "  </tbody>\n",
       "</table>\n",
       "<p>6842 rows × 5 columns</p>\n",
       "</div>"
      ],
      "text/plain": [
       "               Close      Open      High       Low    Change\n",
       "Date                                                        \n",
       "1995-05-03       NaN       NaN       NaN       NaN       NaN\n",
       "1995-05-04  0.000000  0.000000  0.000000  0.000000 -1.000000\n",
       "1995-05-06 -0.003436 -0.003436 -0.003436 -0.003436      -inf\n",
       "1995-05-08  0.000000  0.000000  0.000000  0.000000 -1.000000\n",
       "1995-05-09  0.000000  0.000000  0.000000  0.000000       NaN\n",
       "...              ...       ...       ...       ...       ...\n",
       "2022-05-27 -0.025641 -0.026087 -0.026064 -0.026087 -7.564103\n",
       "2022-05-28  0.000000  0.000893  0.000000  0.000893 -1.000000\n",
       "2022-05-29  0.000000  0.000000  0.000000  0.000000       NaN\n",
       "2022-05-30 -0.005352 -0.005352 -0.005352 -0.005352      -inf\n",
       "2022-05-31  0.010314  0.013453  0.013453  0.010314 -2.907407\n",
       "\n",
       "[6842 rows x 5 columns]"
      ]
     },
     "execution_count": 10,
     "metadata": {},
     "output_type": "execute_result"
    }
   ],
   "source": [
    "df1_PROFIT"
   ]
  },
  {
   "cell_type": "code",
   "execution_count": 29,
   "id": "e9573683",
   "metadata": {},
   "outputs": [
    {
     "name": "stdout",
     "output_type": "stream",
     "text": [
      "[*********************100%***********************]  1 of 1 completed\n"
     ]
    }
   ],
   "source": [
    "kospi=pdr.get_data_yahoo('^KS11',strat='2000-01-01')"
   ]
  },
  {
   "cell_type": "code",
   "execution_count": 30,
   "id": "9037f829",
   "metadata": {
    "scrolled": false
   },
   "outputs": [
    {
     "data": {
      "text/html": [
       "<div>\n",
       "<style scoped>\n",
       "    .dataframe tbody tr th:only-of-type {\n",
       "        vertical-align: middle;\n",
       "    }\n",
       "\n",
       "    .dataframe tbody tr th {\n",
       "        vertical-align: top;\n",
       "    }\n",
       "\n",
       "    .dataframe thead th {\n",
       "        text-align: right;\n",
       "    }\n",
       "</style>\n",
       "<table border=\"1\" class=\"dataframe\">\n",
       "  <thead>\n",
       "    <tr style=\"text-align: right;\">\n",
       "      <th></th>\n",
       "      <th>Open</th>\n",
       "      <th>High</th>\n",
       "      <th>Low</th>\n",
       "      <th>Close</th>\n",
       "      <th>Adj Close</th>\n",
       "      <th>Volume</th>\n",
       "    </tr>\n",
       "    <tr>\n",
       "      <th>Date</th>\n",
       "      <th></th>\n",
       "      <th></th>\n",
       "      <th></th>\n",
       "      <th></th>\n",
       "      <th></th>\n",
       "      <th></th>\n",
       "    </tr>\n",
       "  </thead>\n",
       "  <tbody>\n",
       "    <tr>\n",
       "      <th>1996-12-11</th>\n",
       "      <td>705.989990</td>\n",
       "      <td>709.479980</td>\n",
       "      <td>704.429993</td>\n",
       "      <td>704.679993</td>\n",
       "      <td>704.679993</td>\n",
       "      <td>28000</td>\n",
       "    </tr>\n",
       "    <tr>\n",
       "      <th>1996-12-12</th>\n",
       "      <td>705.109985</td>\n",
       "      <td>706.010010</td>\n",
       "      <td>688.739990</td>\n",
       "      <td>689.380005</td>\n",
       "      <td>689.380005</td>\n",
       "      <td>25900</td>\n",
       "    </tr>\n",
       "    <tr>\n",
       "      <th>1996-12-13</th>\n",
       "      <td>690.440002</td>\n",
       "      <td>695.719971</td>\n",
       "      <td>677.640015</td>\n",
       "      <td>689.070007</td>\n",
       "      <td>689.070007</td>\n",
       "      <td>26500</td>\n",
       "    </tr>\n",
       "    <tr>\n",
       "      <th>1996-12-16</th>\n",
       "      <td>686.969971</td>\n",
       "      <td>686.969971</td>\n",
       "      <td>667.710022</td>\n",
       "      <td>673.919983</td>\n",
       "      <td>673.919983</td>\n",
       "      <td>22800</td>\n",
       "    </tr>\n",
       "    <tr>\n",
       "      <th>1996-12-17</th>\n",
       "      <td>675.349976</td>\n",
       "      <td>680.090027</td>\n",
       "      <td>660.390015</td>\n",
       "      <td>663.349976</td>\n",
       "      <td>663.349976</td>\n",
       "      <td>31600</td>\n",
       "    </tr>\n",
       "    <tr>\n",
       "      <th>...</th>\n",
       "      <td>...</td>\n",
       "      <td>...</td>\n",
       "      <td>...</td>\n",
       "      <td>...</td>\n",
       "      <td>...</td>\n",
       "      <td>...</td>\n",
       "    </tr>\n",
       "    <tr>\n",
       "      <th>2022-05-25</th>\n",
       "      <td>2621.750000</td>\n",
       "      <td>2630.169922</td>\n",
       "      <td>2602.939941</td>\n",
       "      <td>2617.219971</td>\n",
       "      <td>2617.219971</td>\n",
       "      <td>710200</td>\n",
       "    </tr>\n",
       "    <tr>\n",
       "      <th>2022-05-26</th>\n",
       "      <td>2616.989990</td>\n",
       "      <td>2641.909912</td>\n",
       "      <td>2602.010010</td>\n",
       "      <td>2612.449951</td>\n",
       "      <td>2612.449951</td>\n",
       "      <td>595300</td>\n",
       "    </tr>\n",
       "    <tr>\n",
       "      <th>2022-05-27</th>\n",
       "      <td>2640.750000</td>\n",
       "      <td>2644.709961</td>\n",
       "      <td>2631.489990</td>\n",
       "      <td>2638.050049</td>\n",
       "      <td>2638.050049</td>\n",
       "      <td>590500</td>\n",
       "    </tr>\n",
       "    <tr>\n",
       "      <th>2022-05-30</th>\n",
       "      <td>2662.310059</td>\n",
       "      <td>2672.739990</td>\n",
       "      <td>2654.179932</td>\n",
       "      <td>2669.659912</td>\n",
       "      <td>2669.659912</td>\n",
       "      <td>469300</td>\n",
       "    </tr>\n",
       "    <tr>\n",
       "      <th>2022-05-31</th>\n",
       "      <td>2666.879883</td>\n",
       "      <td>2685.899902</td>\n",
       "      <td>2654.320068</td>\n",
       "      <td>2685.899902</td>\n",
       "      <td>2685.899902</td>\n",
       "      <td>670700</td>\n",
       "    </tr>\n",
       "  </tbody>\n",
       "</table>\n",
       "<p>6277 rows × 6 columns</p>\n",
       "</div>"
      ],
      "text/plain": [
       "                   Open         High          Low        Close    Adj Close  \\\n",
       "Date                                                                          \n",
       "1996-12-11   705.989990   709.479980   704.429993   704.679993   704.679993   \n",
       "1996-12-12   705.109985   706.010010   688.739990   689.380005   689.380005   \n",
       "1996-12-13   690.440002   695.719971   677.640015   689.070007   689.070007   \n",
       "1996-12-16   686.969971   686.969971   667.710022   673.919983   673.919983   \n",
       "1996-12-17   675.349976   680.090027   660.390015   663.349976   663.349976   \n",
       "...                 ...          ...          ...          ...          ...   \n",
       "2022-05-25  2621.750000  2630.169922  2602.939941  2617.219971  2617.219971   \n",
       "2022-05-26  2616.989990  2641.909912  2602.010010  2612.449951  2612.449951   \n",
       "2022-05-27  2640.750000  2644.709961  2631.489990  2638.050049  2638.050049   \n",
       "2022-05-30  2662.310059  2672.739990  2654.179932  2669.659912  2669.659912   \n",
       "2022-05-31  2666.879883  2685.899902  2654.320068  2685.899902  2685.899902   \n",
       "\n",
       "            Volume  \n",
       "Date                \n",
       "1996-12-11   28000  \n",
       "1996-12-12   25900  \n",
       "1996-12-13   26500  \n",
       "1996-12-16   22800  \n",
       "1996-12-17   31600  \n",
       "...            ...  \n",
       "2022-05-25  710200  \n",
       "2022-05-26  595300  \n",
       "2022-05-27  590500  \n",
       "2022-05-30  469300  \n",
       "2022-05-31  670700  \n",
       "\n",
       "[6277 rows x 6 columns]"
      ]
     },
     "execution_count": 30,
     "metadata": {},
     "output_type": "execute_result"
    }
   ],
   "source": [
    "kospi"
   ]
  },
  {
   "cell_type": "code",
   "execution_count": 14,
   "id": "ae206cd1",
   "metadata": {},
   "outputs": [],
   "source": [
    "kospi_dpc=(kospi['Close']/kospi['Close'].shift(1)-1)*100\n",
    "kospi_dpc.iloc[0]=0"
   ]
  },
  {
   "cell_type": "code",
   "execution_count": 15,
   "id": "51aada0e",
   "metadata": {},
   "outputs": [],
   "source": [
    "kospi_dpc_cs=kospi_dpc.cumsum()"
   ]
  },
  {
   "cell_type": "code",
   "execution_count": 18,
   "id": "d8774833",
   "metadata": {},
   "outputs": [
    {
     "data": {
      "text/plain": [
       "[<matplotlib.lines.Line2D at 0x2b87701fee0>]"
      ]
     },
     "execution_count": 18,
     "metadata": {},
     "output_type": "execute_result"
    },
    {
     "data": {
      "image/png": "[encoded data removed]",
      "text/plain": [
       "<Figure size 432x288 with 1 Axes>"
      ]
     },
     "metadata": {
      "needs_background": "light"
     },
     "output_type": "display_data"
    }
   ],
   "source": [
    "plt.plot(kospi.index, kospi_dpc_cs,'b',label='KOSPI')"
   ]
  },
  {
   "cell_type": "code",
   "execution_count": 24,
   "id": "833ab09d",
   "metadata": {},
   "outputs": [],
   "source": [
    "debt=fdr.DataReader('KR3YT=RR','2000')"
   ]
  },
  {
   "cell_type": "code",
   "execution_count": 25,
   "id": "aa3d6993",
   "metadata": {},
   "outputs": [
    {
     "data": {
      "text/html": [
       "<div>\n",
       "<style scoped>\n",
       "    .dataframe tbody tr th:only-of-type {\n",
       "        vertical-align: middle;\n",
       "    }\n",
       "\n",
       "    .dataframe tbody tr th {\n",
       "        vertical-align: top;\n",
       "    }\n",
       "\n",
       "    .dataframe thead th {\n",
       "        text-align: right;\n",
       "    }\n",
       "</style>\n",
       "<table border=\"1\" class=\"dataframe\">\n",
       "  <thead>\n",
       "    <tr style=\"text-align: right;\">\n",
       "      <th></th>\n",
       "      <th>Close</th>\n",
       "      <th>Open</th>\n",
       "      <th>High</th>\n",
       "      <th>Low</th>\n",
       "      <th>Change</th>\n",
       "    </tr>\n",
       "    <tr>\n",
       "      <th>Date</th>\n",
       "      <th></th>\n",
       "      <th></th>\n",
       "      <th></th>\n",
       "      <th></th>\n",
       "      <th></th>\n",
       "    </tr>\n",
       "  </thead>\n",
       "  <tbody>\n",
       "    <tr>\n",
       "      <th>2000-01-04</th>\n",
       "      <td>9.040</td>\n",
       "      <td>9.040</td>\n",
       "      <td>9.040</td>\n",
       "      <td>9.040</td>\n",
       "      <td>0.0011</td>\n",
       "    </tr>\n",
       "    <tr>\n",
       "      <th>2000-01-05</th>\n",
       "      <td>9.110</td>\n",
       "      <td>9.110</td>\n",
       "      <td>9.110</td>\n",
       "      <td>9.110</td>\n",
       "      <td>0.0077</td>\n",
       "    </tr>\n",
       "    <tr>\n",
       "      <th>2000-01-06</th>\n",
       "      <td>9.160</td>\n",
       "      <td>9.160</td>\n",
       "      <td>9.160</td>\n",
       "      <td>9.160</td>\n",
       "      <td>0.0055</td>\n",
       "    </tr>\n",
       "    <tr>\n",
       "      <th>2000-01-07</th>\n",
       "      <td>9.170</td>\n",
       "      <td>9.170</td>\n",
       "      <td>9.170</td>\n",
       "      <td>9.170</td>\n",
       "      <td>0.0011</td>\n",
       "    </tr>\n",
       "    <tr>\n",
       "      <th>2000-01-08</th>\n",
       "      <td>9.180</td>\n",
       "      <td>9.180</td>\n",
       "      <td>9.180</td>\n",
       "      <td>9.180</td>\n",
       "      <td>0.0011</td>\n",
       "    </tr>\n",
       "    <tr>\n",
       "      <th>...</th>\n",
       "      <td>...</td>\n",
       "      <td>...</td>\n",
       "      <td>...</td>\n",
       "      <td>...</td>\n",
       "      <td>...</td>\n",
       "    </tr>\n",
       "    <tr>\n",
       "      <th>2022-05-27</th>\n",
       "      <td>2.946</td>\n",
       "      <td>2.940</td>\n",
       "      <td>2.986</td>\n",
       "      <td>2.938</td>\n",
       "      <td>-0.0030</td>\n",
       "    </tr>\n",
       "    <tr>\n",
       "      <th>2022-05-28</th>\n",
       "      <td>2.950</td>\n",
       "      <td>2.950</td>\n",
       "      <td>2.950</td>\n",
       "      <td>2.950</td>\n",
       "      <td>0.0014</td>\n",
       "    </tr>\n",
       "    <tr>\n",
       "      <th>2022-05-29</th>\n",
       "      <td>2.950</td>\n",
       "      <td>2.950</td>\n",
       "      <td>2.950</td>\n",
       "      <td>2.950</td>\n",
       "      <td>0.0000</td>\n",
       "    </tr>\n",
       "    <tr>\n",
       "      <th>2022-05-30</th>\n",
       "      <td>2.933</td>\n",
       "      <td>2.969</td>\n",
       "      <td>2.969</td>\n",
       "      <td>2.901</td>\n",
       "      <td>-0.0058</td>\n",
       "    </tr>\n",
       "    <tr>\n",
       "      <th>2022-05-31</th>\n",
       "      <td>3.024</td>\n",
       "      <td>2.969</td>\n",
       "      <td>3.030</td>\n",
       "      <td>2.969</td>\n",
       "      <td>0.0310</td>\n",
       "    </tr>\n",
       "  </tbody>\n",
       "</table>\n",
       "<p>6418 rows × 5 columns</p>\n",
       "</div>"
      ],
      "text/plain": [
       "            Close   Open   High    Low  Change\n",
       "Date                                          \n",
       "2000-01-04  9.040  9.040  9.040  9.040  0.0011\n",
       "2000-01-05  9.110  9.110  9.110  9.110  0.0077\n",
       "2000-01-06  9.160  9.160  9.160  9.160  0.0055\n",
       "2000-01-07  9.170  9.170  9.170  9.170  0.0011\n",
       "2000-01-08  9.180  9.180  9.180  9.180  0.0011\n",
       "...           ...    ...    ...    ...     ...\n",
       "2022-05-27  2.946  2.940  2.986  2.938 -0.0030\n",
       "2022-05-28  2.950  2.950  2.950  2.950  0.0014\n",
       "2022-05-29  2.950  2.950  2.950  2.950  0.0000\n",
       "2022-05-30  2.933  2.969  2.969  2.901 -0.0058\n",
       "2022-05-31  3.024  2.969  3.030  2.969  0.0310\n",
       "\n",
       "[6418 rows x 5 columns]"
      ]
     },
     "execution_count": 25,
     "metadata": {},
     "output_type": "execute_result"
    }
   ],
   "source": [
    "debt"
   ]
  },
  {
   "cell_type": "code",
   "execution_count": 26,
   "id": "e7364417",
   "metadata": {},
   "outputs": [],
   "source": [
    "debt_dpc=(debt['Close']/debt['Close'].shift(1)-1)*100\n",
    "debt_dpc.iloc[0]=0"
   ]
  },
  {
   "cell_type": "code",
   "execution_count": 27,
   "id": "5e1a26bd",
   "metadata": {},
   "outputs": [],
   "source": [
    "debt_dpc_cs=debt_dpc.cumsum()"
   ]
  },
  {
   "cell_type": "code",
   "execution_count": 28,
   "id": "903d1e24",
   "metadata": {},
   "outputs": [
    {
     "data": {
      "text/plain": [
       "[<matplotlib.lines.Line2D at 0x2b878d44130>]"
      ]
     },
     "execution_count": 28,
     "metadata": {},
     "output_type": "execute_result"
    },
    {
     "data": {
      "image/png": "[encoded data removed]",
      "text/plain": [
       "<Figure size 432x288 with 1 Axes>"
      ]
     },
     "metadata": {
      "needs_background": "light"
     },
     "output_type": "display_data"
    }
   ],
   "source": [
    "plt.plot(debt.index, debt_dpc_cs,'r--',label='DEBT')"
   ]
  },
  {
   "cell_type": "code",
   "execution_count": 37,
   "id": "7265972e",
   "metadata": {},
   "outputs": [
    {
     "data": {
      "text/plain": [
       "Date\n",
       "2015-01-02         NaN\n",
       "2015-01-05   -0.005549\n",
       "2015-01-06   -0.017382\n",
       "2015-01-07    0.000733\n",
       "2015-01-08    0.011052\n",
       "                ...   \n",
       "2022-05-25    0.004356\n",
       "2022-05-26   -0.001823\n",
       "2022-05-27    0.009799\n",
       "2022-05-30    0.011982\n",
       "2022-05-31    0.006083\n",
       "Name: Close, Length: 1824, dtype: float64"
      ]
     },
     "execution_count": 37,
     "metadata": {},
     "output_type": "execute_result"
    }
   ],
   "source": [
    "kspi=fdr.DataReader('KS11','2015-01-01')\n",
    "kspi_PROFIT=kspi['Close'].pct_change()\n",
    "kspi_PROFIT"
   ]
  },
  {
   "cell_type": "code",
   "execution_count": 38,
   "id": "469afc5c",
   "metadata": {},
   "outputs": [
    {
     "data": {
      "text/plain": [
       "Date\n",
       "2015-01-02         NaN\n",
       "2015-01-05   -0.005549\n",
       "2015-01-06   -0.022835\n",
       "2015-01-07   -0.022119\n",
       "2015-01-08   -0.011311\n",
       "                ...   \n",
       "2022-05-25    0.358579\n",
       "2022-05-26    0.356102\n",
       "2022-05-27    0.369391\n",
       "2022-05-30    0.385800\n",
       "2022-05-31    0.394230\n",
       "Name: Close, Length: 1824, dtype: float64"
      ]
     },
     "execution_count": 38,
     "metadata": {},
     "output_type": "execute_result"
    }
   ],
   "source": [
    "#누적 수익률\n",
    "kspi_PROFIT_ACC=(1+kspi_PROFIT).cumprod()-1\n",
    "kspi_PROFIT_ACC"
   ]
  },
  {
   "cell_type": "code",
   "execution_count": 40,
   "id": "accec79a",
   "metadata": {},
   "outputs": [
    {
     "data": {
      "text/plain": [
       "Date\n",
       "2015-01-02         NaN\n",
       "2015-01-05   -0.005565\n",
       "2015-01-06   -0.017535\n",
       "2015-01-07    0.000733\n",
       "2015-01-08    0.010991\n",
       "                ...   \n",
       "2022-05-25    0.004346\n",
       "2022-05-26   -0.001824\n",
       "2022-05-27    0.009752\n",
       "2022-05-30    0.011911\n",
       "2022-05-31    0.006065\n",
       "Name: Close, Length: 1824, dtype: float64"
      ]
     },
     "execution_count": 40,
     "metadata": {},
     "output_type": "execute_result"
    }
   ],
   "source": [
    "kspi_LOG_PROFIT = np.log(kspi_PROFIT+1)\n",
    "kspi_LOG_PROFIT"
   ]
  },
  {
   "cell_type": "code",
   "execution_count": 42,
   "id": "002a2fbd",
   "metadata": {},
   "outputs": [
    {
     "data": {
      "text/plain": [
       "Date\n",
       "2015-01-02         NaN\n",
       "2015-01-05   -0.005565\n",
       "2015-01-06   -0.023100\n",
       "2015-01-07   -0.022367\n",
       "2015-01-08   -0.011375\n",
       "                ...   \n",
       "2022-05-25    0.306439\n",
       "2022-05-26    0.304615\n",
       "2022-05-27    0.314366\n",
       "2022-05-30    0.326277\n",
       "2022-05-31    0.332342\n",
       "Name: Close, Length: 1824, dtype: float64"
      ]
     },
     "execution_count": 42,
     "metadata": {},
     "output_type": "execute_result"
    }
   ],
   "source": [
    "kspi_LOG_PROFIT_ACC = kspi_LOG_PROFIT.cumsum()\n",
    "kspi_LOG_PROFIT_ACC"
   ]
  },
  {
   "cell_type": "code",
   "execution_count": 43,
   "id": "3a71297d",
   "metadata": {},
   "outputs": [
    {
     "data": {
      "text/plain": [
       "Date\n",
       "2015-01-02    2.662\n",
       "2015-01-03    2.655\n",
       "2015-01-05    2.629\n",
       "2015-01-06    2.552\n",
       "2015-01-07    2.562\n",
       "              ...  \n",
       "2022-05-27    3.211\n",
       "2022-05-28    3.217\n",
       "2022-05-29    3.217\n",
       "2022-05-30    3.205\n",
       "2022-05-31    3.324\n",
       "Name: Close, Length: 2513, dtype: float64"
      ]
     },
     "execution_count": 43,
     "metadata": {},
     "output_type": "execute_result"
    }
   ],
   "source": [
    "debt=fdr.DataReader('KR10YT=RR','2015-01-01')\n",
    "debt['Close']"
   ]
  },
  {
   "cell_type": "code",
   "execution_count": 45,
   "id": "df7fb6c3",
   "metadata": {},
   "outputs": [
    {
     "data": {
      "text/plain": [
       "Date\n",
       "2015-01-02         NaN\n",
       "2015-01-03   -0.002630\n",
       "2015-01-05   -0.009793\n",
       "2015-01-06   -0.029289\n",
       "2015-01-07    0.003918\n",
       "                ...   \n",
       "2022-05-27   -0.008645\n",
       "2022-05-28    0.001869\n",
       "2022-05-29    0.000000\n",
       "2022-05-30   -0.003730\n",
       "2022-05-31    0.037129\n",
       "Name: Close, Length: 2513, dtype: float64"
      ]
     },
     "execution_count": 45,
     "metadata": {},
     "output_type": "execute_result"
    }
   ],
   "source": [
    "debt_PROFIT=debt['Close'].pct_change()\n",
    "debt_PROFIT"
   ]
  },
  {
   "cell_type": "code",
   "execution_count": 47,
   "id": "46f4453b",
   "metadata": {},
   "outputs": [
    {
     "data": {
      "text/plain": [
       "Date\n",
       "2015-01-02         NaN\n",
       "2015-01-03   -0.002630\n",
       "2015-01-05   -0.012397\n",
       "2015-01-06   -0.041322\n",
       "2015-01-07   -0.037566\n",
       "                ...   \n",
       "2022-05-27    0.206236\n",
       "2022-05-28    0.208490\n",
       "2022-05-29    0.208490\n",
       "2022-05-30    0.203982\n",
       "2022-05-31    0.248685\n",
       "Name: Close, Length: 2513, dtype: float64"
      ]
     },
     "execution_count": 47,
     "metadata": {},
     "output_type": "execute_result"
    }
   ],
   "source": [
    "debt_PROFIT_ACC = (1+debt_PROFIT).cumprod()-1\n",
    "debt_PROFIT_ACC"
   ]
  },
  {
   "cell_type": "code",
   "execution_count": 48,
   "id": "55512cf4",
   "metadata": {},
   "outputs": [
    {
     "data": {
      "text/plain": [
       "Date\n",
       "2015-01-02         NaN\n",
       "2015-01-03   -0.002633\n",
       "2015-01-05   -0.009841\n",
       "2015-01-06   -0.029726\n",
       "2015-01-07    0.003911\n",
       "                ...   \n",
       "2022-05-27   -0.008682\n",
       "2022-05-28    0.001867\n",
       "2022-05-29    0.000000\n",
       "2022-05-30   -0.003737\n",
       "2022-05-31    0.036457\n",
       "Name: Close, Length: 2513, dtype: float64"
      ]
     },
     "execution_count": 48,
     "metadata": {},
     "output_type": "execute_result"
    }
   ],
   "source": [
    "debt_LOG_PROFIT=np.log(debt_PROFIT+1)\n",
    "debt_LOG_PROFIT"
   ]
  },
  {
   "cell_type": "code",
   "execution_count": 49,
   "id": "26cc05c2",
   "metadata": {},
   "outputs": [
    {
     "data": {
      "text/plain": [
       "Date\n",
       "2015-01-02         NaN\n",
       "2015-01-03   -0.002633\n",
       "2015-01-05   -0.012474\n",
       "2015-01-06   -0.042200\n",
       "2015-01-07   -0.038290\n",
       "                ...   \n",
       "2022-05-27    0.187505\n",
       "2022-05-28    0.189372\n",
       "2022-05-29    0.189372\n",
       "2022-05-30    0.185634\n",
       "2022-05-31    0.222091\n",
       "Name: Close, Length: 2513, dtype: float64"
      ]
     },
     "execution_count": 49,
     "metadata": {},
     "output_type": "execute_result"
    }
   ],
   "source": [
    "debt_LOG_PROFIT_ACC = debt_LOG_PROFIT.cumsum()\n",
    "debt_LOG_PROFIT_ACC"
   ]
  },
  {
   "cell_type": "code",
   "execution_count": 50,
   "id": "c6a580f6",
   "metadata": {},
   "outputs": [
    {
     "name": "stdout",
     "output_type": "stream",
     "text": [
      "Your investment had a CAGR of -3.74% \n"
     ]
    }
   ],
   "source": [
    "start = 11212\n",
    "end = 10000\n",
    "periods =3\n",
    "\n",
    "def CAGR (start,end,periods):\n",
    "    return (end/start)**(1/periods)-1\n",
    "\n",
    "print('Your investment had a CAGR of {:.2%} '.format(CAGR(start, end, periods)))"
   ]
  },
  {
   "cell_type": "code",
   "execution_count": 53,
   "id": "51198ffd",
   "metadata": {},
   "outputs": [
    {
     "data": {
      "image/png": "[encoded data removed]",
      "text/plain": [
       "<Figure size 432x288 with 1 Axes>"
      ]
     },
     "metadata": {
      "needs_background": "light"
     },
     "output_type": "display_data"
    }
   ],
   "source": [
    "p = (kspi_LOG_PROFIT_ACC)*0.6 + (debt_LOG_PROFIT_ACC)*0.4\n",
    "\n",
    "plt.plot(p.index, p, 'r--',label='60/40 portfolio')\n",
    "\n",
    "plt.grid(True)\n",
    "plt.legend(loc='best')\n",
    "plt.show()"
   ]
  },
  {
   "cell_type": "code",
   "execution_count": null,
   "id": "e53c02da",
   "metadata": {},
   "outputs": [],
   "source": []
  }
 ],
 "metadata": {
  "kernelspec": {
   "display_name": "Python 3",
   "language": "python",
   "name": "python3"
  },
  "language_info": {
   "codemirror_mode": {
    "name": "ipython",
    "version": 3
   },
   "file_extension": ".py",
   "mimetype": "text/x-python",
   "name": "python",
   "nbconvert_exporter": "python",
   "pygments_lexer": "ipython3",
   "version": "3.8.8"
  }
 },
 "nbformat": 4,
 "nbformat_minor": 5
}
