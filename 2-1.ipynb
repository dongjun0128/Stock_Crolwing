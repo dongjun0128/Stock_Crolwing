{
 "cells": [
  {
   "cell_type": "code",
   "execution_count": 1,
   "id": "74ac902d",
   "metadata": {},
   "outputs": [],
   "source": [
    "import pandas as pd"
   ]
  },
  {
   "cell_type": "code",
   "execution_count": 2,
   "id": "c823072e",
   "metadata": {},
   "outputs": [
    {
     "data": {
      "text/plain": [
       "list"
      ]
     },
     "execution_count": 2,
     "metadata": {},
     "output_type": "execute_result"
    }
   ],
   "source": [
    "table = pd.read_html('https://mizykk.tistory.com/39', header=0, encoding='utf-8')\n",
    "\n",
    "type(table)"
   ]
  },
  {
   "cell_type": "code",
   "execution_count": 3,
   "id": "fd00c7b5",
   "metadata": {},
   "outputs": [
    {
     "data": {
      "text/plain": [
       "[    과일  색상     가격\n",
       " 0   사과  빨강  1500원\n",
       " 1   사과  초록  1000원\n",
       " 2  바나나  노랑  3000원\n",
       " 3  바나나  초록  2000원,\n",
       "      국가   도시     언어\n",
       " 0    한국   서울    한국어\n",
       " 1    미국   뉴욕     영어\n",
       " 2  이탈리아  피렌체  이탈리아어\n",
       " 3   프랑스   파리     불어,\n",
       "   한국어        영어\n",
       " 0  1월   January\n",
       " 1  2월  Feburary\n",
       " 2  3월     March,\n",
       "               [Python] 리스트 정렬하기 :: sort / sorted (0)  2021.02.10\n",
       " 0    [Python] 영문 > 한글 키보드 입력 변환하기 :: 자모결합 / 자소결합 (0)  2021.01.29\n",
       " 1  [Python] for문(반복문) 진행상황 표시 :: tqdm / tqdm_note...  2021.01.28\n",
       " 2  [Python] has no attribute 'compat' (most likel...  2020.10.05\n",
       " 3                               pd.read_table 예제 (0)  2020.03.31\n",
       " 4               [Python] 위경도 거리 구하기 :: haversine (1)  2020.01.28]"
      ]
     },
     "execution_count": 3,
     "metadata": {},
     "output_type": "execute_result"
    }
   ],
   "source": [
    "table"
   ]
  },
  {
   "cell_type": "code",
   "execution_count": 4,
   "id": "16b98f56",
   "metadata": {},
   "outputs": [
    {
     "data": {
      "text/plain": [
       "4"
      ]
     },
     "execution_count": 4,
     "metadata": {},
     "output_type": "execute_result"
    }
   ],
   "source": [
    "len(table)"
   ]
  },
  {
   "cell_type": "code",
   "execution_count": 5,
   "id": "5a63c34a",
   "metadata": {},
   "outputs": [
    {
     "data": {
      "text/html": [
       "<div>\n",
       "<style scoped>\n",
       "    .dataframe tbody tr th:only-of-type {\n",
       "        vertical-align: middle;\n",
       "    }\n",
       "\n",
       "    .dataframe tbody tr th {\n",
       "        vertical-align: top;\n",
       "    }\n",
       "\n",
       "    .dataframe thead th {\n",
       "        text-align: right;\n",
       "    }\n",
       "</style>\n",
       "<table border=\"1\" class=\"dataframe\">\n",
       "  <thead>\n",
       "    <tr style=\"text-align: right;\">\n",
       "      <th></th>\n",
       "      <th>과일</th>\n",
       "      <th>색상</th>\n",
       "      <th>가격</th>\n",
       "    </tr>\n",
       "  </thead>\n",
       "  <tbody>\n",
       "    <tr>\n",
       "      <th>0</th>\n",
       "      <td>사과</td>\n",
       "      <td>빨강</td>\n",
       "      <td>1500원</td>\n",
       "    </tr>\n",
       "    <tr>\n",
       "      <th>1</th>\n",
       "      <td>사과</td>\n",
       "      <td>초록</td>\n",
       "      <td>1000원</td>\n",
       "    </tr>\n",
       "    <tr>\n",
       "      <th>2</th>\n",
       "      <td>바나나</td>\n",
       "      <td>노랑</td>\n",
       "      <td>3000원</td>\n",
       "    </tr>\n",
       "    <tr>\n",
       "      <th>3</th>\n",
       "      <td>바나나</td>\n",
       "      <td>초록</td>\n",
       "      <td>2000원</td>\n",
       "    </tr>\n",
       "  </tbody>\n",
       "</table>\n",
       "</div>"
      ],
      "text/plain": [
       "    과일  색상     가격\n",
       "0   사과  빨강  1500원\n",
       "1   사과  초록  1000원\n",
       "2  바나나  노랑  3000원\n",
       "3  바나나  초록  2000원"
      ]
     },
     "execution_count": 5,
     "metadata": {},
     "output_type": "execute_result"
    }
   ],
   "source": [
    "table0 = pd.read_html('https://mizykk.tistory.com/39', header=0, encoding='utf-8')[0]\n",
    "table0"
   ]
  },
  {
   "cell_type": "code",
   "execution_count": 6,
   "id": "27bbb95a",
   "metadata": {},
   "outputs": [
    {
     "data": {
      "text/html": [
       "<div>\n",
       "<style scoped>\n",
       "    .dataframe tbody tr th:only-of-type {\n",
       "        vertical-align: middle;\n",
       "    }\n",
       "\n",
       "    .dataframe tbody tr th {\n",
       "        vertical-align: top;\n",
       "    }\n",
       "\n",
       "    .dataframe thead th {\n",
       "        text-align: right;\n",
       "    }\n",
       "</style>\n",
       "<table border=\"1\" class=\"dataframe\">\n",
       "  <thead>\n",
       "    <tr style=\"text-align: right;\">\n",
       "      <th></th>\n",
       "      <th>국가</th>\n",
       "      <th>도시</th>\n",
       "      <th>언어</th>\n",
       "    </tr>\n",
       "  </thead>\n",
       "  <tbody>\n",
       "    <tr>\n",
       "      <th>0</th>\n",
       "      <td>한국</td>\n",
       "      <td>서울</td>\n",
       "      <td>한국어</td>\n",
       "    </tr>\n",
       "    <tr>\n",
       "      <th>1</th>\n",
       "      <td>미국</td>\n",
       "      <td>뉴욕</td>\n",
       "      <td>영어</td>\n",
       "    </tr>\n",
       "    <tr>\n",
       "      <th>2</th>\n",
       "      <td>이탈리아</td>\n",
       "      <td>피렌체</td>\n",
       "      <td>이탈리아어</td>\n",
       "    </tr>\n",
       "    <tr>\n",
       "      <th>3</th>\n",
       "      <td>프랑스</td>\n",
       "      <td>파리</td>\n",
       "      <td>불어</td>\n",
       "    </tr>\n",
       "  </tbody>\n",
       "</table>\n",
       "</div>"
      ],
      "text/plain": [
       "     국가   도시     언어\n",
       "0    한국   서울    한국어\n",
       "1    미국   뉴욕     영어\n",
       "2  이탈리아  피렌체  이탈리아어\n",
       "3   프랑스   파리     불어"
      ]
     },
     "execution_count": 6,
     "metadata": {},
     "output_type": "execute_result"
    }
   ],
   "source": [
    "table1 = pd.read_html('https://mizykk.tistory.com/39', header=0, encoding='utf-8')[1]\n",
    "table1"
   ]
  },
  {
   "cell_type": "code",
   "execution_count": 7,
   "id": "d642d58d",
   "metadata": {},
   "outputs": [
    {
     "data": {
      "text/html": [
       "<div>\n",
       "<style scoped>\n",
       "    .dataframe tbody tr th:only-of-type {\n",
       "        vertical-align: middle;\n",
       "    }\n",
       "\n",
       "    .dataframe tbody tr th {\n",
       "        vertical-align: top;\n",
       "    }\n",
       "\n",
       "    .dataframe thead th {\n",
       "        text-align: right;\n",
       "    }\n",
       "</style>\n",
       "<table border=\"1\" class=\"dataframe\">\n",
       "  <thead>\n",
       "    <tr style=\"text-align: right;\">\n",
       "      <th></th>\n",
       "      <th>한국어</th>\n",
       "      <th>영어</th>\n",
       "    </tr>\n",
       "  </thead>\n",
       "  <tbody>\n",
       "    <tr>\n",
       "      <th>0</th>\n",
       "      <td>1월</td>\n",
       "      <td>January</td>\n",
       "    </tr>\n",
       "    <tr>\n",
       "      <th>1</th>\n",
       "      <td>2월</td>\n",
       "      <td>Feburary</td>\n",
       "    </tr>\n",
       "    <tr>\n",
       "      <th>2</th>\n",
       "      <td>3월</td>\n",
       "      <td>March</td>\n",
       "    </tr>\n",
       "  </tbody>\n",
       "</table>\n",
       "</div>"
      ],
      "text/plain": [
       "  한국어        영어\n",
       "0  1월   January\n",
       "1  2월  Feburary\n",
       "2  3월     March"
      ]
     },
     "execution_count": 7,
     "metadata": {},
     "output_type": "execute_result"
    }
   ],
   "source": [
    "table2 = pd.read_html('https://mizykk.tistory.com/39', header=0, encoding='utf-8')[2]\n",
    "table2"
   ]
  },
  {
   "cell_type": "code",
   "execution_count": 8,
   "id": "6ec8fa9a",
   "metadata": {},
   "outputs": [
    {
     "data": {
      "text/html": [
       "<div>\n",
       "<style scoped>\n",
       "    .dataframe tbody tr th:only-of-type {\n",
       "        vertical-align: middle;\n",
       "    }\n",
       "\n",
       "    .dataframe tbody tr th {\n",
       "        vertical-align: top;\n",
       "    }\n",
       "\n",
       "    .dataframe thead th {\n",
       "        text-align: right;\n",
       "    }\n",
       "</style>\n",
       "<table border=\"1\" class=\"dataframe\">\n",
       "  <thead>\n",
       "    <tr style=\"text-align: right;\">\n",
       "      <th></th>\n",
       "      <th>[Python] 리스트 정렬하기 :: sort / sorted (0)</th>\n",
       "      <th>2021.02.10</th>\n",
       "    </tr>\n",
       "  </thead>\n",
       "  <tbody>\n",
       "    <tr>\n",
       "      <th>0</th>\n",
       "      <td>[Python] 영문 &gt; 한글 키보드 입력 변환하기 :: 자모결합 / 자소결합 (0)</td>\n",
       "      <td>2021.01.29</td>\n",
       "    </tr>\n",
       "    <tr>\n",
       "      <th>1</th>\n",
       "      <td>[Python] for문(반복문) 진행상황 표시 :: tqdm / tqdm_note...</td>\n",
       "      <td>2021.01.28</td>\n",
       "    </tr>\n",
       "    <tr>\n",
       "      <th>2</th>\n",
       "      <td>[Python] has no attribute 'compat' (most likel...</td>\n",
       "      <td>2020.10.05</td>\n",
       "    </tr>\n",
       "    <tr>\n",
       "      <th>3</th>\n",
       "      <td>pd.read_table 예제 (0)</td>\n",
       "      <td>2020.03.31</td>\n",
       "    </tr>\n",
       "    <tr>\n",
       "      <th>4</th>\n",
       "      <td>[Python] 위경도 거리 구하기 :: haversine (1)</td>\n",
       "      <td>2020.01.28</td>\n",
       "    </tr>\n",
       "  </tbody>\n",
       "</table>\n",
       "</div>"
      ],
      "text/plain": [
       "              [Python] 리스트 정렬하기 :: sort / sorted (0)  2021.02.10\n",
       "0    [Python] 영문 > 한글 키보드 입력 변환하기 :: 자모결합 / 자소결합 (0)  2021.01.29\n",
       "1  [Python] for문(반복문) 진행상황 표시 :: tqdm / tqdm_note...  2021.01.28\n",
       "2  [Python] has no attribute 'compat' (most likel...  2020.10.05\n",
       "3                               pd.read_table 예제 (0)  2020.03.31\n",
       "4               [Python] 위경도 거리 구하기 :: haversine (1)  2020.01.28"
      ]
     },
     "execution_count": 8,
     "metadata": {},
     "output_type": "execute_result"
    }
   ],
   "source": [
    "table3 = pd.read_html('https://mizykk.tistory.com/39', header=0, encoding='utf-8')[3]\n",
    "table3"
   ]
  },
  {
   "cell_type": "code",
   "execution_count": 9,
   "id": "291aebb0",
   "metadata": {},
   "outputs": [
    {
     "ename": "IndexError",
     "evalue": "list index out of range",
     "output_type": "error",
     "traceback": [
      "\u001b[1;31m---------------------------------------------------------------------------\u001b[0m",
      "\u001b[1;31mIndexError\u001b[0m                                Traceback (most recent call last)",
      "\u001b[1;32m<ipython-input-9-23020df8d045>\u001b[0m in \u001b[0;36m<module>\u001b[1;34m\u001b[0m\n\u001b[1;32m----> 1\u001b[1;33m \u001b[0mtable4\u001b[0m \u001b[1;33m=\u001b[0m \u001b[0mpd\u001b[0m\u001b[1;33m.\u001b[0m\u001b[0mread_html\u001b[0m\u001b[1;33m(\u001b[0m\u001b[1;34m'https://mizykk.tistory.com/39'\u001b[0m\u001b[1;33m,\u001b[0m \u001b[0mheader\u001b[0m\u001b[1;33m=\u001b[0m\u001b[1;36m0\u001b[0m\u001b[1;33m,\u001b[0m \u001b[0mencoding\u001b[0m\u001b[1;33m=\u001b[0m\u001b[1;34m'utf-8'\u001b[0m\u001b[1;33m)\u001b[0m\u001b[1;33m[\u001b[0m\u001b[1;36m4\u001b[0m\u001b[1;33m]\u001b[0m\u001b[1;33m\u001b[0m\u001b[1;33m\u001b[0m\u001b[0m\n\u001b[0m\u001b[0;32m      2\u001b[0m \u001b[0mtable4\u001b[0m\u001b[1;33m\u001b[0m\u001b[1;33m\u001b[0m\u001b[0m\n",
      "\u001b[1;31mIndexError\u001b[0m: list index out of range"
     ]
    }
   ],
   "source": [
    "table4 = pd.read_html('https://mizykk.tistory.com/39', header=0, encoding='utf-8')[4]\n",
    "table4"
   ]
  },
  {
   "cell_type": "code",
   "execution_count": null,
   "id": "521e6ccf",
   "metadata": {},
   "outputs": [],
   "source": []
  }
 ],
 "metadata": {
  "kernelspec": {
   "display_name": "Python 3",
   "language": "python",
   "name": "python3"
  },
  "language_info": {
   "codemirror_mode": {
    "name": "ipython",
    "version": 3
   },
   "file_extension": ".py",
   "mimetype": "text/x-python",
   "name": "python",
   "nbconvert_exporter": "python",
   "pygments_lexer": "ipython3",
   "version": "3.8.8"
  }
 },
 "nbformat": 4,
 "nbformat_minor": 5
}
