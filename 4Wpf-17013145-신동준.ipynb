{
 "cells": [
  {
   "cell_type": "code",
   "execution_count": 1,
   "id": "a95244bd",
   "metadata": {},
   "outputs": [],
   "source": [
    "from pandas_datareader import data as pdr\n",
    "import matplotlib.pyplot as plt\n",
    "import FinanceDataReader as fdr\n",
    "import numpy as np\n",
    "import pandas as pd\n",
    "import pandas_datareader as  web\n",
    "import matplotlib.pyplot as pp\n",
    "from datetime import datetime, timedelta, date"
   ]
  },
  {
   "cell_type": "code",
   "execution_count": 2,
   "id": "2fab5923",
   "metadata": {},
   "outputs": [],
   "source": [
    "start = datetime(1970,1,2)\n",
    "end = datetime(2021,12,31)\n",
    "\n",
    "df_SPY = pdr.DataReader('SPY','yahoo',start,end) #미국 주식\n",
    "df_TLT = pdr.DataReader('TLT','yahoo',start,end) #미국 채권\n",
    "df_GLD = pdr.DataReader('GLD','yahoo',start,end) #금\n",
    "df_IEF = pdr.DataReader('IEF','yahoo',start,end) #미국 중기 국채\n",
    "df_DBC = pdr.DataReader('DBC','yahoo',start,end) #원자재"
   ]
  },
  {
   "cell_type": "code",
   "execution_count": 3,
   "id": "7afd5442",
   "metadata": {},
   "outputs": [],
   "source": [
    "#LOG 수익률 계산\n",
    "SPY_PROFIT = df_SPY['Close'].pct_change()*100\n",
    "SPY_PROFIT.iloc[0] = 0\n",
    "\n",
    "TLT_PROFIT = df_TLT['Close'].pct_change()*100\n",
    "TLT_PROFIT.iloc[0] = 0\n",
    "\n",
    "GLD_PROFIT = df_GLD['Close'].pct_change()*100\n",
    "GLD_PROFIT.iloc[0] = 0\n",
    "\n",
    "IEF_PROFIT = df_IEF['Close'].pct_change()*100\n",
    "IEF_PROFIT.iloc[0] = 0\n",
    "\n",
    "DBC_PROFIT = df_DBC['Close'].pct_change()*100\n",
    "DBC_PROFIT.iloc[0] = 0"
   ]
  },
  {
   "cell_type": "code",
   "execution_count": 4,
   "id": "95824b57",
   "metadata": {},
   "outputs": [
    {
     "name": "stderr",
     "output_type": "stream",
     "text": [
      "C:\\Users\\sjo20\\anaconda3\\lib\\site-packages\\pandas\\core\\arraylike.py:358: RuntimeWarning: invalid value encountered in log\n",
      "  result = getattr(ufunc, method)(*inputs, **kwargs)\n"
     ]
    }
   ],
   "source": [
    "SPY_LOG_PROFIT = np.log(SPY_PROFIT +1)\n",
    "TLT_LOG_PROFIT = np.log(TLT_PROFIT +1)\n",
    "GLD_LOG_PROFIT = np.log(GLD_PROFIT +1)\n",
    "IEF_LOG_PROFIT = np.log(IEF_PROFIT +1)\n",
    "DBC_LOG_PROFIT = np.log(DBC_PROFIT +1)"
   ]
  },
  {
   "cell_type": "code",
   "execution_count": 5,
   "id": "ddd5534b",
   "metadata": {},
   "outputs": [],
   "source": [
    "#LOG 누적 수익률\n",
    "SPY_LOG_PROFIT_ACC = SPY_LOG_PROFIT.cumsum()\n",
    "TLT_LOG_PROFIT_ACC = TLT_LOG_PROFIT.cumsum()\n",
    "GLD_LOG_PROFIT_ACC = GLD_LOG_PROFIT.cumsum()\n",
    "IEF_LOG_PROFIT_ACC = IEF_LOG_PROFIT.cumsum()\n",
    "DBC_LOG_PROFIT_ACC = DBC_LOG_PROFIT.cumsum()"
   ]
  },
  {
   "cell_type": "code",
   "execution_count": 6,
   "id": "23813c86",
   "metadata": {},
   "outputs": [
    {
     "data": {
      "text/plain": [
       "Date\n",
       "2006-02-06   -24.842816\n",
       "2006-02-08   -25.419766\n",
       "2006-02-09   -24.966742\n",
       "2006-02-14   -25.398797\n",
       "2006-02-16   -24.801973\n",
       "                ...    \n",
       "2021-12-23   -21.143077\n",
       "2021-12-27   -20.694085\n",
       "2021-12-28   -20.975384\n",
       "2021-12-30   -20.943098\n",
       "2021-12-31   -21.030995\n",
       "Name: Close, Length: 2497, dtype: float64"
      ]
     },
     "execution_count": 6,
     "metadata": {},
     "output_type": "execute_result"
    }
   ],
   "source": [
    "pf = (SPY_LOG_PROFIT_ACC * 0.2) + (TLT_LOG_PROFIT_ACC * 0.2) +(GLD_LOG_PROFIT_ACC * 0.2) +(IEF_LOG_PROFIT_ACC * 0.22)+(DBC_LOG_PROFIT_ACC * 0.22)\n",
    "\n",
    "pf = pf.dropna()\n",
    "pf"
   ]
  },
  {
   "cell_type": "code",
   "execution_count": 11,
   "id": "055255f2",
   "metadata": {},
   "outputs": [
    {
     "data": {
      "text/plain": [
       "Date\n",
       "2006-02-06     92.900499\n",
       "2006-02-07     92.166001\n",
       "2006-02-08     92.426251\n",
       "2006-02-09     92.657002\n",
       "2006-02-10     92.353502\n",
       "                 ...    \n",
       "2021-12-27    234.305755\n",
       "2021-12-28    233.891995\n",
       "2021-12-29    233.342252\n",
       "2021-12-30    233.578498\n",
       "2021-12-31    233.394499\n",
       "Name: Close, Length: 4005, dtype: float64"
      ]
     },
     "execution_count": 11,
     "metadata": {},
     "output_type": "execute_result"
    }
   ],
   "source": [
    "pf_data = (df_SPY['Close']*0.3) + (df_TLT['Close']*0.4) + (df_GLD['Close']*0.075) + (df_IEF['Close']*0.15)+ (df_DBC['Close']*0.075)\n",
    "\n",
    "pf_data = pf_data.dropna()\n",
    "pf_data"
   ]
  },
  {
   "cell_type": "code",
   "execution_count": 12,
   "id": "7e1288a3",
   "metadata": {},
   "outputs": [
    {
     "name": "stdout",
     "output_type": "stream",
     "text": [
      "Date\n",
      "2006-02-06    0.000000\n",
      "2006-02-07   -0.790629\n",
      "2006-02-08   -0.790629\n",
      "2006-02-09   -0.790629\n",
      "2006-02-10   -0.790629\n",
      "                ...   \n",
      "2021-12-27   -2.164648\n",
      "2021-12-28   -2.164648\n",
      "2021-12-29   -2.164648\n",
      "2021-12-30   -1.904448\n",
      "2021-12-31   -1.904448\n",
      "Name: Close, Length: 4005, dtype: float64\n"
     ]
    }
   ],
   "source": [
    "window = 20\n",
    "max_window = pf_data.rolling(window, min_periods=1).max()\n",
    "dd=((pf_data/max_window)-1)*100\n",
    "mdd = dd.rolling(window,min_periods=1 ).min()\n",
    "\n",
    "print(mdd)"
   ]
  },
  {
   "cell_type": "code",
   "execution_count": 13,
   "id": "ec229693",
   "metadata": {},
   "outputs": [
    {
     "data": {
      "image/png": "[encoded data removed]",
      "text/plain": [
       "<Figure size 432x288 with 1 Axes>"
      ]
     },
     "metadata": {
      "needs_background": "light"
     },
     "output_type": "display_data"
    }
   ],
   "source": [
    "plt.plot(pf.index, pf,'b',label='CAGR')\n",
    "\n",
    "plt.grid(True)\n",
    "plt.legend(loc='best')\n",
    "plt.show()"
   ]
  },
  {
   "cell_type": "code",
   "execution_count": 14,
   "id": "22d7cfe8",
   "metadata": {},
   "outputs": [
    {
     "data": {
      "image/png": "[encoded data removed]",
      "text/plain": [
       "<Figure size 432x288 with 1 Axes>"
      ]
     },
     "metadata": {
      "needs_background": "light"
     },
     "output_type": "display_data"
    }
   ],
   "source": [
    "plt.plot(mdd.index, mdd, 'r', label='MDD')\n",
    "\n",
    "plt.grid(True)\n",
    "plt.legend(loc='best')\n",
    "plt.show()"
   ]
  },
  {
   "cell_type": "code",
   "execution_count": null,
   "id": "dfed10e4",
   "metadata": {},
   "outputs": [],
   "source": []
  }
 ],
 "metadata": {
  "kernelspec": {
   "display_name": "Python 3",
   "language": "python",
   "name": "python3"
  },
  "language_info": {
   "codemirror_mode": {
    "name": "ipython",
    "version": 3
   },
   "file_extension": ".py",
   "mimetype": "text/x-python",
   "name": "python",
   "nbconvert_exporter": "python",
   "pygments_lexer": "ipython3",
   "version": "3.8.8"
  }
 },
 "nbformat": 4,
 "nbformat_minor": 5
}
