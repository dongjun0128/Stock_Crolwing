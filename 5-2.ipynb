{
 "cells": [
  {
   "cell_type": "code",
   "execution_count": 1,
   "id": "0a32c2ac",
   "metadata": {},
   "outputs": [],
   "source": [
    "import FinanceDataReader as fdr"
   ]
  },
  {
   "cell_type": "code",
   "execution_count": 2,
   "id": "1329d3e2",
   "metadata": {},
   "outputs": [],
   "source": [
    "stock_list = fdr.StockListing('KRX').dropna()"
   ]
  },
  {
   "cell_type": "code",
   "execution_count": 3,
   "id": "2bf77a33",
   "metadata": {},
   "outputs": [],
   "source": [
    "stock_list = stock_list.head(3)"
   ]
  },
  {
   "cell_type": "code",
   "execution_count": 4,
   "id": "f409b998",
   "metadata": {},
   "outputs": [
    {
     "data": {
      "text/html": [
       "<div>\n",
       "<style scoped>\n",
       "    .dataframe tbody tr th:only-of-type {\n",
       "        vertical-align: middle;\n",
       "    }\n",
       "\n",
       "    .dataframe tbody tr th {\n",
       "        vertical-align: top;\n",
       "    }\n",
       "\n",
       "    .dataframe thead th {\n",
       "        text-align: right;\n",
       "    }\n",
       "</style>\n",
       "<table border=\"1\" class=\"dataframe\">\n",
       "  <thead>\n",
       "    <tr style=\"text-align: right;\">\n",
       "      <th></th>\n",
       "      <th>Symbol</th>\n",
       "      <th>Market</th>\n",
       "      <th>Name</th>\n",
       "      <th>Sector</th>\n",
       "      <th>Industry</th>\n",
       "      <th>ListingDate</th>\n",
       "      <th>SettleMonth</th>\n",
       "      <th>Representative</th>\n",
       "      <th>HomePage</th>\n",
       "      <th>Region</th>\n",
       "    </tr>\n",
       "  </thead>\n",
       "  <tbody>\n",
       "    <tr>\n",
       "      <th>0</th>\n",
       "      <td>060310</td>\n",
       "      <td>KOSDAQ</td>\n",
       "      <td>3S</td>\n",
       "      <td>전자부품 제조업</td>\n",
       "      <td>반도체 웨이퍼 캐리어</td>\n",
       "      <td>2002-04-23</td>\n",
       "      <td>03월</td>\n",
       "      <td>김세완</td>\n",
       "      <td>http://www.3sref.com</td>\n",
       "      <td>서울특별시</td>\n",
       "    </tr>\n",
       "    <tr>\n",
       "      <th>1</th>\n",
       "      <td>095570</td>\n",
       "      <td>KOSPI</td>\n",
       "      <td>AJ네트웍스</td>\n",
       "      <td>산업용 기계 및 장비 임대업</td>\n",
       "      <td>렌탈(파렛트, OA장비, 건설장비)</td>\n",
       "      <td>2015-08-21</td>\n",
       "      <td>12월</td>\n",
       "      <td>박대현, 손삼달</td>\n",
       "      <td>http://www.ajnet.co.kr</td>\n",
       "      <td>서울특별시</td>\n",
       "    </tr>\n",
       "    <tr>\n",
       "      <th>2</th>\n",
       "      <td>006840</td>\n",
       "      <td>KOSPI</td>\n",
       "      <td>AK홀딩스</td>\n",
       "      <td>기타 금융업</td>\n",
       "      <td>지주사업</td>\n",
       "      <td>1999-08-11</td>\n",
       "      <td>12월</td>\n",
       "      <td>채형석, 이석주(각자 대표이사)</td>\n",
       "      <td>http://www.aekyunggroup.co.kr</td>\n",
       "      <td>서울특별시</td>\n",
       "    </tr>\n",
       "  </tbody>\n",
       "</table>\n",
       "</div>"
      ],
      "text/plain": [
       "   Symbol  Market    Name           Sector             Industry ListingDate  \\\n",
       "0  060310  KOSDAQ      3S         전자부품 제조업          반도체 웨이퍼 캐리어  2002-04-23   \n",
       "1  095570   KOSPI  AJ네트웍스  산업용 기계 및 장비 임대업  렌탈(파렛트, OA장비, 건설장비)  2015-08-21   \n",
       "2  006840   KOSPI   AK홀딩스           기타 금융업                 지주사업  1999-08-11   \n",
       "\n",
       "  SettleMonth     Representative                       HomePage Region  \n",
       "0         03월                김세완           http://www.3sref.com  서울특별시  \n",
       "1         12월           박대현, 손삼달         http://www.ajnet.co.kr  서울특별시  \n",
       "2         12월  채형석, 이석주(각자 대표이사)  http://www.aekyunggroup.co.kr  서울특별시  "
      ]
     },
     "execution_count": 4,
     "metadata": {},
     "output_type": "execute_result"
    }
   ],
   "source": [
    "stock_list"
   ]
  },
  {
   "cell_type": "code",
   "execution_count": 5,
   "id": "ea5b3f6f",
   "metadata": {},
   "outputs": [],
   "source": [
    "import time\n",
    "import pandas as pd"
   ]
  },
  {
   "cell_type": "code",
   "execution_count": 6,
   "id": "a39f485e",
   "metadata": {},
   "outputs": [
    {
     "name": "stdout",
     "output_type": "stream",
     "text": [
      "060310 3S\n",
      "095570 AJ네트웍스\n",
      "006840 AK홀딩스\n"
     ]
    }
   ],
   "source": [
    "daily = pd.DataFrame()\n",
    "for code, name in stock_list[['Symbol', 'Name']].values:\n",
    "    print(code, name)\n",
    "    date = '2022-04-27'\n",
    "    ohlcv = fdr.DataReader(code, date, date)\n",
    "    ohlcv['Code'] = code\n",
    "    ohlcv['Name'] = name\n",
    "    daily= pd.concat([daily, ohlcv])"
   ]
  },
  {
   "cell_type": "code",
   "execution_count": 7,
   "id": "717617f7",
   "metadata": {},
   "outputs": [],
   "source": [
    "# [Pandas 기초] 데이터프레임 합치기(merge, join, concat)\n",
    "# https://yganalyst.github.io/data_handling/Pd_12/\n",
    "\n",
    "# Pandas(판다스) - FinanceDataReader을 사용해 주식 데이터를 dataframe으로 불러오기 \n",
    "# https://blog.naver.com/PostView.naver?blogId=ji0eeeee&logNo=221527166066&parentCategoryNo=&categoryNo=11&viewDate=&isShowPopularPosts=true&from=search\n",
    "\n",
    "# 열 추가, 값 수정, 데이터 합치기\n",
    "# https://nalara12200.tistory.com/162 \n",
    "\n",
    "# [python] 팬더스 데이터 프레임의 인덱스를 열로 변환하는 방법은 무엇입니까?\n",
    "# http://daplus.net/python-%ED%8C%AC%EB%8D%94-%EB%8D%B0%EC%9D%B4%ED%84%B0-%ED%94%84%EB%A0%88%EC%9E%84%EC%9D%98-%EC%9D%B8%EB%8D%B1%EC%8A%A4%EB%A5%BC-%EC%97%B4%EB%A1%9C-%EB%B3%80%ED%99%98%ED%95%98%EB%8A%94-%EB%B0%A9/#:~:text=3%2043%20123-,%EB%8B%B5%EB%B3%80,%EC%95%84%EB%9E%98%20%EC%BD%94%EB%93%9C%EB%A5%BC%20%EC%82%AC%EC%9A%A9%ED%95%98%EC%8B%AD%EC%8B%9C%EC%98%A4.&text=%EC%9D%B4%EB%A0%87%EA%B2%8C%ED%95%98%EB%A9%B4%20%EC%9D%B8%EB%8D%B1%EC%8A%A4%EA%B0%80%20%EC%97%B4,%ED%95%98%EB%A9%B4%20%EC%98%81%EA%B5%AC%EC%A0%81%EC%9C%BC%EB%A1%9C%20%EB%B3%80%EA%B2%BD%EB%90%A9%EB%8B%88%EB%8B%A4.\n"
   ]
  },
  {
   "cell_type": "code",
   "execution_count": 8,
   "id": "2fea5fa4",
   "metadata": {},
   "outputs": [
    {
     "data": {
      "text/html": [
       "<div>\n",
       "<style scoped>\n",
       "    .dataframe tbody tr th:only-of-type {\n",
       "        vertical-align: middle;\n",
       "    }\n",
       "\n",
       "    .dataframe tbody tr th {\n",
       "        vertical-align: top;\n",
       "    }\n",
       "\n",
       "    .dataframe thead th {\n",
       "        text-align: right;\n",
       "    }\n",
       "</style>\n",
       "<table border=\"1\" class=\"dataframe\">\n",
       "  <thead>\n",
       "    <tr style=\"text-align: right;\">\n",
       "      <th></th>\n",
       "      <th>Open</th>\n",
       "      <th>High</th>\n",
       "      <th>Low</th>\n",
       "      <th>Close</th>\n",
       "      <th>Volume</th>\n",
       "      <th>Change</th>\n",
       "      <th>Code</th>\n",
       "      <th>Name</th>\n",
       "    </tr>\n",
       "    <tr>\n",
       "      <th>Date</th>\n",
       "      <th></th>\n",
       "      <th></th>\n",
       "      <th></th>\n",
       "      <th></th>\n",
       "      <th></th>\n",
       "      <th></th>\n",
       "      <th></th>\n",
       "      <th></th>\n",
       "    </tr>\n",
       "  </thead>\n",
       "  <tbody>\n",
       "    <tr>\n",
       "      <th>2022-04-27</th>\n",
       "      <td>3260</td>\n",
       "      <td>3310</td>\n",
       "      <td>3205</td>\n",
       "      <td>3250</td>\n",
       "      <td>229769</td>\n",
       "      <td>-0.018127</td>\n",
       "      <td>060310</td>\n",
       "      <td>3S</td>\n",
       "    </tr>\n",
       "    <tr>\n",
       "      <th>2022-04-27</th>\n",
       "      <td>6590</td>\n",
       "      <td>6660</td>\n",
       "      <td>6400</td>\n",
       "      <td>6660</td>\n",
       "      <td>47133</td>\n",
       "      <td>0.000000</td>\n",
       "      <td>095570</td>\n",
       "      <td>AJ네트웍스</td>\n",
       "    </tr>\n",
       "    <tr>\n",
       "      <th>2022-04-27</th>\n",
       "      <td>21600</td>\n",
       "      <td>21600</td>\n",
       "      <td>21100</td>\n",
       "      <td>21300</td>\n",
       "      <td>39962</td>\n",
       "      <td>-0.036199</td>\n",
       "      <td>006840</td>\n",
       "      <td>AK홀딩스</td>\n",
       "    </tr>\n",
       "  </tbody>\n",
       "</table>\n",
       "</div>"
      ],
      "text/plain": [
       "             Open   High    Low  Close  Volume    Change    Code    Name\n",
       "Date                                                                    \n",
       "2022-04-27   3260   3310   3205   3250  229769 -0.018127  060310      3S\n",
       "2022-04-27   6590   6660   6400   6660   47133  0.000000  095570  AJ네트웍스\n",
       "2022-04-27  21600  21600  21100  21300   39962 -0.036199  006840   AK홀딩스"
      ]
     },
     "execution_count": 8,
     "metadata": {},
     "output_type": "execute_result"
    }
   ],
   "source": [
    "daily"
   ]
  },
  {
   "cell_type": "code",
   "execution_count": 9,
   "id": "a7d59d38",
   "metadata": {},
   "outputs": [],
   "source": [
    "daily['Date'] = daily.index"
   ]
  },
  {
   "cell_type": "code",
   "execution_count": 10,
   "id": "4b5db7f5",
   "metadata": {},
   "outputs": [
    {
     "data": {
      "text/html": [
       "<div>\n",
       "<style scoped>\n",
       "    .dataframe tbody tr th:only-of-type {\n",
       "        vertical-align: middle;\n",
       "    }\n",
       "\n",
       "    .dataframe tbody tr th {\n",
       "        vertical-align: top;\n",
       "    }\n",
       "\n",
       "    .dataframe thead th {\n",
       "        text-align: right;\n",
       "    }\n",
       "</style>\n",
       "<table border=\"1\" class=\"dataframe\">\n",
       "  <thead>\n",
       "    <tr style=\"text-align: right;\">\n",
       "      <th></th>\n",
       "      <th>Open</th>\n",
       "      <th>High</th>\n",
       "      <th>Low</th>\n",
       "      <th>Close</th>\n",
       "      <th>Volume</th>\n",
       "      <th>Change</th>\n",
       "      <th>Code</th>\n",
       "      <th>Name</th>\n",
       "      <th>Date</th>\n",
       "    </tr>\n",
       "    <tr>\n",
       "      <th>Date</th>\n",
       "      <th></th>\n",
       "      <th></th>\n",
       "      <th></th>\n",
       "      <th></th>\n",
       "      <th></th>\n",
       "      <th></th>\n",
       "      <th></th>\n",
       "      <th></th>\n",
       "      <th></th>\n",
       "    </tr>\n",
       "  </thead>\n",
       "  <tbody>\n",
       "    <tr>\n",
       "      <th>2022-04-27</th>\n",
       "      <td>3260</td>\n",
       "      <td>3310</td>\n",
       "      <td>3205</td>\n",
       "      <td>3250</td>\n",
       "      <td>229769</td>\n",
       "      <td>-0.018127</td>\n",
       "      <td>060310</td>\n",
       "      <td>3S</td>\n",
       "      <td>2022-04-27</td>\n",
       "    </tr>\n",
       "    <tr>\n",
       "      <th>2022-04-27</th>\n",
       "      <td>6590</td>\n",
       "      <td>6660</td>\n",
       "      <td>6400</td>\n",
       "      <td>6660</td>\n",
       "      <td>47133</td>\n",
       "      <td>0.000000</td>\n",
       "      <td>095570</td>\n",
       "      <td>AJ네트웍스</td>\n",
       "      <td>2022-04-27</td>\n",
       "    </tr>\n",
       "    <tr>\n",
       "      <th>2022-04-27</th>\n",
       "      <td>21600</td>\n",
       "      <td>21600</td>\n",
       "      <td>21100</td>\n",
       "      <td>21300</td>\n",
       "      <td>39962</td>\n",
       "      <td>-0.036199</td>\n",
       "      <td>006840</td>\n",
       "      <td>AK홀딩스</td>\n",
       "      <td>2022-04-27</td>\n",
       "    </tr>\n",
       "  </tbody>\n",
       "</table>\n",
       "</div>"
      ],
      "text/plain": [
       "             Open   High    Low  Close  Volume    Change    Code    Name  \\\n",
       "Date                                                                       \n",
       "2022-04-27   3260   3310   3205   3250  229769 -0.018127  060310      3S   \n",
       "2022-04-27   6590   6660   6400   6660   47133  0.000000  095570  AJ네트웍스   \n",
       "2022-04-27  21600  21600  21100  21300   39962 -0.036199  006840   AK홀딩스   \n",
       "\n",
       "                 Date  \n",
       "Date                   \n",
       "2022-04-27 2022-04-27  \n",
       "2022-04-27 2022-04-27  \n",
       "2022-04-27 2022-04-27  "
      ]
     },
     "execution_count": 10,
     "metadata": {},
     "output_type": "execute_result"
    }
   ],
   "source": [
    "daily"
   ]
  },
  {
   "cell_type": "code",
   "execution_count": 11,
   "id": "4a1b0307",
   "metadata": {},
   "outputs": [],
   "source": [
    "import pandas as pd\n",
    "import numpy as np\n",
    "import time, json, requests \n",
    "from datetime import datetime, timedelta, date\n",
    "\n",
    "import pymysql # python에서 mysql을 사용하는 패키지\n",
    "\n",
    "import sqlalchemy # sql 접근 및 관리를 도와주는 패키지\n",
    "from sqlalchemy import create_engine"
   ]
  },
  {
   "cell_type": "code",
   "execution_count": 12,
   "id": "d6e79c45",
   "metadata": {},
   "outputs": [],
   "source": [
    "server = '127.0.0.1' # local server\n",
    "user = 'root' # user name\n",
    "password = '1541' # 개인 password\n",
    "db = 'myfirst_db' # DB 이름\n",
    "\n",
    "# sqlalchemy의 create_engine을 이용해 DB 연결\n",
    "engine = create_engine('mysql+pymysql://{}:{}@{}/{}?charset=utf8'.format(user,password,server,db))"
   ]
  },
  {
   "cell_type": "code",
   "execution_count": 13,
   "id": "dee697da",
   "metadata": {},
   "outputs": [],
   "source": [
    "daily.to_sql(name='kospi_adjusted1',con=engine,if_exists='append',index=False,\n",
    "             dtype = { # sql에 저장할 때, 데이터 유형도 설정할 수 있다.\n",
    "\n",
    "                 'Open' : sqlalchemy.types.BIGINT(),\n",
    "                 'High' : sqlalchemy.types.BIGINT(),\n",
    "                 'Low' : sqlalchemy.types.BIGINT(),\n",
    "                 'Close' : sqlalchemy.types.BIGINT(),\n",
    "                 'Volume' : sqlalchemy.types.BIGINT(),\n",
    "                 'Change' : sqlalchemy.types.FLOAT(),\n",
    "                 'Code' : sqlalchemy.types.VARCHAR(10),\n",
    "                 'Name' : sqlalchemy.types.TEXT(),\n",
    "                 'Date' : sqlalchemy.types.DATE(),\n",
    "              \n",
    "             }\n",
    "            )"
   ]
  },
  {
   "cell_type": "code",
   "execution_count": 14,
   "id": "d319e722",
   "metadata": {},
   "outputs": [],
   "source": [
    "# DB 접속 해제\n",
    "engine.dispose()\n",
    "#cur.close()\n",
    "#conn.close()"
   ]
  },
  {
   "cell_type": "code",
   "execution_count": null,
   "id": "846c7477",
   "metadata": {},
   "outputs": [],
   "source": []
  }
 ],
 "metadata": {
  "kernelspec": {
   "display_name": "Python 3",
   "language": "python",
   "name": "python3"
  },
  "language_info": {
   "codemirror_mode": {
    "name": "ipython",
    "version": 3
   },
   "file_extension": ".py",
   "mimetype": "text/x-python",
   "name": "python",
   "nbconvert_exporter": "python",
   "pygments_lexer": "ipython3",
   "version": "3.8.8"
  }
 },
 "nbformat": 4,
 "nbformat_minor": 5
}
