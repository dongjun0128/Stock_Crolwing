{
 "cells": [
  {
   "cell_type": "code",
   "execution_count": 1,
   "id": "cd8ea486",
   "metadata": {},
   "outputs": [],
   "source": [
    "from pandas_datareader import data as pdr\n",
    "import matplotlib.pyplot as plt\n",
    "import FinanceDataReader as fdr\n",
    "import numpy as np\n",
    "import pandas as pd\n",
    "import pandas_datareader as  web\n",
    "import matplotlib.pyplot as pp\n",
    "from datetime import datetime, timedelta, date"
   ]
  },
  {
   "cell_type": "code",
   "execution_count": 2,
   "id": "f8d4edd7",
   "metadata": {},
   "outputs": [],
   "source": [
    "start = datetime(1970,1,2)\n",
    "end = datetime(2021,12,31)\n",
    "\n",
    "df_SPY = pdr.DataReader('SPY','yahoo',start,end) #미국 주식\n",
    "df_EFA = pdr.DataReader('EFA','yahoo',start,end) #미국 외 선진국 주식\n",
    "df_EEM = pdr.DataReader('EEM','yahoo',start,end) #신흥국 주식\n",
    "df_DBC = pdr.DataReader('DBC','yahoo',start,end) #원자재\n",
    "df_GLD = pdr.DataReader('GLD','yahoo',start,end) #금\n",
    "df_EDV = pdr.DataReader('EDV','yahoo',start,end) #미국 제로쿠폰 장기국채\n",
    "df_LTPZ = pdr.DataReader('LTPZ','yahoo',start,end) #물가연동채\n",
    "df_LQD = pdr.DataReader('LQD','yahoo',start,end) #미국 회사채\n",
    "df_EMLC = pdr.DataReader('EMLC','yahoo',start,end) #신흥국 채권\n"
   ]
  },
  {
   "cell_type": "code",
   "execution_count": 3,
   "id": "89dfd53d",
   "metadata": {},
   "outputs": [],
   "source": [
    "#LOG 수익률 계산\n",
    "SPY_PROFIT = df_SPY['Close'].pct_change()*100\n",
    "SPY_PROFIT.iloc[0] = 0\n",
    "\n",
    "EFA_PROFIT = df_EFA['Close'].pct_change()*100\n",
    "EFA_PROFIT.iloc[0] = 0\n",
    "\n",
    "EEM_PROFIT = df_EEM['Close'].pct_change()*100\n",
    "EEM_PROFIT.iloc[0] = 0\n",
    "\n",
    "DBC_PROFIT = df_DBC['Close'].pct_change()*100\n",
    "DBC_PROFIT.iloc[0] = 0\n",
    "\n",
    "GLD_PROFIT = df_GLD['Close'].pct_change()*100\n",
    "GLD_PROFIT.iloc[0] = 0\n",
    "\n",
    "EDV_PROFIT = df_EDV['Close'].pct_change()*100\n",
    "EDV_PROFIT.iloc[0] = 0\n",
    "\n",
    "LTPZ_PROFIT = df_LTPZ['Close'].pct_change()*100\n",
    "LTPZ_PROFIT.iloc[0] = 0\n",
    "\n",
    "LQD_PROFIT = df_LQD['Close'].pct_change()*100\n",
    "LQD_PROFIT.iloc[0] = 0\n",
    "\n",
    "EMLC_PROFIT = df_EMLC['Close'].pct_change()*100\n",
    "EMLC_PROFIT.iloc[0] = 0"
   ]
  },
  {
   "cell_type": "code",
   "execution_count": 4,
   "id": "664d2f3d",
   "metadata": {},
   "outputs": [
    {
     "name": "stderr",
     "output_type": "stream",
     "text": [
      "C:\\Users\\sjo20\\anaconda3\\lib\\site-packages\\pandas\\core\\arraylike.py:358: RuntimeWarning: invalid value encountered in log\n",
      "  result = getattr(ufunc, method)(*inputs, **kwargs)\n"
     ]
    }
   ],
   "source": [
    "SPY_LOG_PROFIT = np.log(SPY_PROFIT +1)\n",
    "EFA_LOG_PROFIT = np.log(EFA_PROFIT +1)\n",
    "EEM_LOG_PROFIT = np.log(EEM_PROFIT +1)\n",
    "DBC_LOG_PROFIT = np.log(DBC_PROFIT +1)\n",
    "GLD_LOG_PROFIT = np.log(GLD_PROFIT +1)\n",
    "EDV_LOG_PROFIT = np.log(EDV_PROFIT +1)\n",
    "LTPZ_LOG_PROFIT = np.log(LTPZ_PROFIT +1)\n",
    "LQD_LOG_PROFIT = np.log(LQD_PROFIT +1)\n",
    "EMLC_LOG_PROFIT = np.log(EMLC_PROFIT +1)"
   ]
  },
  {
   "cell_type": "code",
   "execution_count": 6,
   "id": "4a5cef21",
   "metadata": {},
   "outputs": [],
   "source": [
    "#LOG 누적 수익률\n",
    "SPY_LOG_PROFIT_ACC = SPY_LOG_PROFIT.cumsum()\n",
    "EFA_LOG_PROFIT_ACC = EFA_LOG_PROFIT.cumsum()\n",
    "EEM_LOG_PROFIT_ACC = EEM_LOG_PROFIT.cumsum()\n",
    "DBC_LOG_PROFIT_ACC = DBC_LOG_PROFIT.cumsum()\n",
    "GLD_LOG_PROFIT_ACC = GLD_LOG_PROFIT.cumsum()\n",
    "EDV_LOG_PROFIT_ACC = EDV_LOG_PROFIT.cumsum()\n",
    "LTPZ_LOG_PROFIT_ACC = LTPZ_LOG_PROFIT.cumsum()\n",
    "LQD_LOG_PROFIT_ACC = LQD_LOG_PROFIT.cumsum()\n",
    "EMLC_LOG_PROFIT_ACC = EMLC_LOG_PROFIT.cumsum()"
   ]
  },
  {
   "cell_type": "code",
   "execution_count": 9,
   "id": "908b6cf9",
   "metadata": {},
   "outputs": [
    {
     "data": {
      "text/plain": [
       "Date\n",
       "2010-07-26    114.186400\n",
       "2010-07-28    114.008230\n",
       "2010-07-29    114.017589\n",
       "2010-07-30    114.486053\n",
       "2010-08-03    114.945619\n",
       "                 ...    \n",
       "2021-12-22    124.323180\n",
       "2021-12-27    124.831238\n",
       "2021-12-28    124.422173\n",
       "2021-12-30    124.396571\n",
       "2021-12-31    124.213932\n",
       "Name: Close, Length: 1514, dtype: float64"
      ]
     },
     "execution_count": 9,
     "metadata": {},
     "output_type": "execute_result"
    }
   ],
   "source": [
    "pf = (SPY_LOG_PROFIT_ACC * 0.12) + (EFA_LOG_PROFIT_ACC * 0.12) + (EEM_LOG_PROFIT_ACC * 0.12) + (DBC_LOG_PROFIT_ACC * 0.07) + (GLD_LOG_PROFIT_ACC * 0.07) + (EDV_LOG_PROFIT_ACC * 0.18) + (LTPZ_LOG_PROFIT_ACC * 0.18) + (LQD_LOG_PROFIT_ACC * 0.07) + (EMLC_LOG_PROFIT_ACC * 0.07)\n",
    "\n",
    "pf = pf.dropna()\n",
    "pf"
   ]
  },
  {
   "cell_type": "code",
   "execution_count": 10,
   "id": "30959dd8",
   "metadata": {},
   "outputs": [
    {
     "data": {
      "text/plain": [
       "Date\n",
       "2010-07-23     71.286200\n",
       "2010-07-26     71.416300\n",
       "2010-07-27     71.069100\n",
       "2010-07-28     71.019001\n",
       "2010-07-29     71.012300\n",
       "                 ...    \n",
       "2021-12-27    139.111300\n",
       "2021-12-28    138.769899\n",
       "2021-12-29    138.362801\n",
       "2021-12-30    138.778500\n",
       "2021-12-31    138.641999\n",
       "Name: Close, Length: 2882, dtype: float64"
      ]
     },
     "execution_count": 10,
     "metadata": {},
     "output_type": "execute_result"
    }
   ],
   "source": [
    "pf_data = (df_SPY['Close']*0.12) +(df_EFA['Close']*0.12) +(df_EEM['Close']*0.12) +(df_DBC['Close']*0.07) +(df_GLD['Close']*0.07) +(df_EDV['Close']*0.18) +(df_LTPZ['Close']*0.18) +(df_LQD['Close']*0.07) +(df_EMLC['Close']*0.07)\n",
    "\n",
    "pf_data = pf_data.dropna()\n",
    "pf_data"
   ]
  },
  {
   "cell_type": "code",
   "execution_count": 11,
   "id": "9f661b94",
   "metadata": {},
   "outputs": [
    {
     "name": "stdout",
     "output_type": "stream",
     "text": [
      "Date\n",
      "2010-07-23    0.000000\n",
      "2010-07-26    0.000000\n",
      "2010-07-27   -0.486163\n",
      "2010-07-28   -0.556314\n",
      "2010-07-29   -0.565697\n",
      "                ...   \n",
      "2021-12-27   -2.602737\n",
      "2021-12-28   -2.602737\n",
      "2021-12-29   -2.602737\n",
      "2021-12-30   -2.150085\n",
      "2021-12-31   -2.150085\n",
      "Name: Close, Length: 2882, dtype: float64\n"
     ]
    }
   ],
   "source": [
    "window = 20\n",
    "max_window = pf_data.rolling(window, min_periods=1).max()\n",
    "dd=((pf_data/max_window)-1)*100\n",
    "mdd = dd.rolling(window,min_periods=1 ).min()\n",
    "\n",
    "print(mdd)"
   ]
  },
  {
   "cell_type": "code",
   "execution_count": 12,
   "id": "ec10160f",
   "metadata": {},
   "outputs": [
    {
     "data": {
      "image/png": "[encoded data removed]",
      "text/plain": [
       "<Figure size 432x288 with 1 Axes>"
      ]
     },
     "metadata": {
      "needs_background": "light"
     },
     "output_type": "display_data"
    }
   ],
   "source": [
    "plt.plot(pf.index, pf,'b',label='CAGR')\n",
    "\n",
    "plt.grid(True)\n",
    "plt.legend(loc='best')\n",
    "plt.show()"
   ]
  },
  {
   "cell_type": "code",
   "execution_count": 13,
   "id": "2ddf8930",
   "metadata": {},
   "outputs": [
    {
     "data": {
      "image/png": "[encoded data removed]",
      "text/plain": [
       "<Figure size 432x288 with 1 Axes>"
      ]
     },
     "metadata": {
      "needs_background": "light"
     },
     "output_type": "display_data"
    }
   ],
   "source": [
    "plt.plot(mdd.index, mdd, 'r', label='MDD')\n",
    "\n",
    "plt.grid(True)\n",
    "plt.legend(loc='best')\n",
    "plt.show()"
   ]
  },
  {
   "cell_type": "code",
   "execution_count": null,
   "id": "5a6c0bef",
   "metadata": {},
   "outputs": [],
   "source": []
  }
 ],
 "metadata": {
  "kernelspec": {
   "display_name": "Python 3",
   "language": "python",
   "name": "python3"
  },
  "language_info": {
   "codemirror_mode": {
    "name": "ipython",
    "version": 3
   },
   "file_extension": ".py",
   "mimetype": "text/x-python",
   "name": "python",
   "nbconvert_exporter": "python",
   "pygments_lexer": "ipython3",
   "version": "3.8.8"
  }
 },
 "nbformat": 4,
 "nbformat_minor": 5
}
