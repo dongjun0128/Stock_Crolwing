{
 "cells": [
  {
   "cell_type": "code",
   "execution_count": 1,
   "id": "f7525d3a",
   "metadata": {},
   "outputs": [],
   "source": [
    "from pandas_datareader import data as pdr\n",
    "import matplotlib.pyplot as plt\n",
    "import FinanceDataReader as fdr\n",
    "import numpy as np\n",
    "import pandas as pd\n",
    "import pandas_datareader as  web\n",
    "import matplotlib.pyplot as pp\n",
    "from datetime import datetime, timedelta, date"
   ]
  },
  {
   "cell_type": "code",
   "execution_count": 2,
   "id": "93e761e9",
   "metadata": {},
   "outputs": [],
   "source": [
    "start = datetime(1970,1,2)\n",
    "end = datetime(2021,12,31)\n",
    "\n",
    "df_SPY = pdr.DataReader('SPY','yahoo',start,end) #미국 주식\n",
    "df_EFA = pdr.DataReader('EFA','yahoo',start,end) #미국 외 선진국 주식\n",
    "df_IEF = pdr.DataReader('IEF','yahoo',start,end) #금\n",
    "df_DBC = pdr.DataReader('DBC','yahoo',start,end) #원자재\n",
    "df_VNQ = pdr.DataReader('VNQ','yahoo',start,end) #금"
   ]
  },
  {
   "cell_type": "code",
   "execution_count": 3,
   "id": "1bd7245a",
   "metadata": {},
   "outputs": [],
   "source": [
    "#LOG 수익률 계산\n",
    "SPY_PROFIT = df_SPY['Close'].pct_change()*100\n",
    "SPY_PROFIT.iloc[0] = 0\n",
    "\n",
    "EFA_PROFIT = df_EFA['Close'].pct_change()*100\n",
    "EFA_PROFIT.iloc[0] = 0\n",
    "\n",
    "IEF_PROFIT = df_IEF['Close'].pct_change()*100\n",
    "IEF_PROFIT.iloc[0] = 0\n",
    "\n",
    "DBC_PROFIT = df_DBC['Close'].pct_change()*100\n",
    "DBC_PROFIT.iloc[0] = 0\n",
    "\n",
    "VNQ_PROFIT = df_VNQ['Close'].pct_change()*100\n",
    "VNQ_PROFIT.iloc[0] = 0"
   ]
  },
  {
   "cell_type": "code",
   "execution_count": 4,
   "id": "a0ff9f4a",
   "metadata": {},
   "outputs": [
    {
     "name": "stderr",
     "output_type": "stream",
     "text": [
      "C:\\Users\\sjo20\\anaconda3\\lib\\site-packages\\pandas\\core\\arraylike.py:358: RuntimeWarning: invalid value encountered in log\n",
      "  result = getattr(ufunc, method)(*inputs, **kwargs)\n"
     ]
    }
   ],
   "source": [
    "SPY_LOG_PROFIT = np.log(SPY_PROFIT +1)\n",
    "EFA_LOG_PROFIT = np.log(EFA_PROFIT +1)\n",
    "IEF_LOG_PROFIT = np.log(IEF_PROFIT +1)\n",
    "DBC_LOG_PROFIT = np.log(DBC_PROFIT +1)\n",
    "VNQ_LOG_PROFIT = np.log(VNQ_PROFIT +1)"
   ]
  },
  {
   "cell_type": "code",
   "execution_count": 5,
   "id": "d76fd463",
   "metadata": {},
   "outputs": [],
   "source": [
    "#LOG 누적 수익률\n",
    "SPY_LOG_PROFIT_ACC = SPY_LOG_PROFIT.cumsum()\n",
    "EFA_LOG_PROFIT_ACC = EFA_LOG_PROFIT.cumsum()\n",
    "IEF_LOG_PROFIT_ACC = IEF_LOG_PROFIT.cumsum()\n",
    "DBC_LOG_PROFIT_ACC = DBC_LOG_PROFIT.cumsum()\n",
    "VNQ_LOG_PROFIT_ACC = VNQ_LOG_PROFIT.cumsum()"
   ]
  },
  {
   "cell_type": "code",
   "execution_count": 6,
   "id": "19561f04",
   "metadata": {},
   "outputs": [
    {
     "data": {
      "text/plain": [
       "Date\n",
       "2006-02-06      1.308477\n",
       "2006-02-08      0.221609\n",
       "2006-02-09      0.449911\n",
       "2006-02-14      0.123964\n",
       "2006-02-16      0.376914\n",
       "                 ...    \n",
       "2021-12-27    152.551104\n",
       "2021-12-28    152.558286\n",
       "2021-12-29    152.612522\n",
       "2021-12-30    152.421526\n",
       "2021-12-31    152.239340\n",
       "Name: Close, Length: 2622, dtype: float64"
      ]
     },
     "execution_count": 6,
     "metadata": {},
     "output_type": "execute_result"
    }
   ],
   "source": [
    "pf = (SPY_LOG_PROFIT_ACC * 0.2) + (EFA_LOG_PROFIT_ACC * 0.2) + (IEF_LOG_PROFIT_ACC * 0.2) + (DBC_LOG_PROFIT_ACC * 0.2) + (VNQ_LOG_PROFIT_ACC * 0.2)\n",
    "\n",
    "pf = pf.dropna()\n",
    "pf"
   ]
  },
  {
   "cell_type": "code",
   "execution_count": 7,
   "id": "4b9591ef",
   "metadata": {},
   "outputs": [
    {
     "data": {
      "text/plain": [
       "Date\n",
       "2006-02-06     71.880000\n",
       "2006-02-07     71.304002\n",
       "2006-02-08     71.490000\n",
       "2006-02-09     71.592001\n",
       "2006-02-10     71.488001\n",
       "                 ...    \n",
       "2021-12-27    161.332003\n",
       "2021-12-28    161.331998\n",
       "2021-12-29    161.504003\n",
       "2021-12-30    161.322001\n",
       "2021-12-31    161.085999\n",
       "Name: Close, Length: 4005, dtype: float64"
      ]
     },
     "execution_count": 7,
     "metadata": {},
     "output_type": "execute_result"
    }
   ],
   "source": [
    "pf_data = (df_SPY['Close']*0.2) +(df_EFA['Close']*0.2) +(df_IEF['Close']*0.2) +(df_DBC['Close']*0.2) +(df_VNQ['Close']*0.2)\n",
    "\n",
    "pf_data = pf_data.dropna()\n",
    "pf_data"
   ]
  },
  {
   "cell_type": "code",
   "execution_count": 8,
   "id": "0bdac2ce",
   "metadata": {},
   "outputs": [
    {
     "name": "stdout",
     "output_type": "stream",
     "text": [
      "Date\n",
      "2006-02-06    0.000000\n",
      "2006-02-07   -0.801334\n",
      "2006-02-08   -0.801334\n",
      "2006-02-09   -0.801334\n",
      "2006-02-10   -0.801334\n",
      "                ...   \n",
      "2021-12-27   -3.776827\n",
      "2021-12-28   -3.776827\n",
      "2021-12-29   -3.776827\n",
      "2021-12-30   -2.903804\n",
      "2021-12-31   -2.903804\n",
      "Name: Close, Length: 4005, dtype: float64\n"
     ]
    }
   ],
   "source": [
    "window = 20\n",
    "max_window = pf_data.rolling(window, min_periods=1).max()\n",
    "dd=((pf_data/max_window)-1)*100\n",
    "mdd = dd.rolling(window,min_periods=1 ).min()\n",
    "\n",
    "print(mdd)"
   ]
  },
  {
   "cell_type": "code",
   "execution_count": 9,
   "id": "3e5b71fa",
   "metadata": {},
   "outputs": [
    {
     "data": {
      "image/png": "[encoded data removed]",
      "text/plain": [
       "<Figure size 432x288 with 1 Axes>"
      ]
     },
     "metadata": {
      "needs_background": "light"
     },
     "output_type": "display_data"
    }
   ],
   "source": [
    "plt.plot(pf.index, pf,'b',label='CAGR')\n",
    "\n",
    "plt.grid(True)\n",
    "plt.legend(loc='best')\n",
    "plt.show()"
   ]
  },
  {
   "cell_type": "code",
   "execution_count": 10,
   "id": "8c88bf95",
   "metadata": {},
   "outputs": [
    {
     "data": {
      "image/png": "[encoded data removed]",
      "text/plain": [
       "<Figure size 432x288 with 1 Axes>"
      ]
     },
     "metadata": {
      "needs_background": "light"
     },
     "output_type": "display_data"
    }
   ],
   "source": [
    "plt.plot(mdd.index, mdd, 'r', label='MDD')\n",
    "\n",
    "plt.grid(True)\n",
    "plt.legend(loc='best')\n",
    "plt.show()"
   ]
  },
  {
   "cell_type": "code",
   "execution_count": null,
   "id": "867e5be6",
   "metadata": {},
   "outputs": [],
   "source": []
  }
 ],
 "metadata": {
  "kernelspec": {
   "display_name": "Python 3",
   "language": "python",
   "name": "python3"
  },
  "language_info": {
   "codemirror_mode": {
    "name": "ipython",
    "version": 3
   },
   "file_extension": ".py",
   "mimetype": "text/x-python",
   "name": "python",
   "nbconvert_exporter": "python",
   "pygments_lexer": "ipython3",
   "version": "3.8.8"
  }
 },
 "nbformat": 4,
 "nbformat_minor": 5
}
