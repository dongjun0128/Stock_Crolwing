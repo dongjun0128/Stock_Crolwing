{
 "cells": [
  {
   "cell_type": "code",
   "execution_count": null,
   "id": "79e01837",
   "metadata": {},
   "outputs": [],
   "source": [
    "import pandas as pd\n",
    "import numpy as np\n",
    "from bs4 isaport Beaut i fulSoup\n",
    "from urllib. request import urlopen, Request\n",
    "\n",
    "def getBS(stock_code, rpt_type, freq):\n",
    "\n",
    "        itess_en = ['assets', 'curassets' , 'curassets1', 'curassets2’, ‘curassets3', 'curassets4', 'curassets5',\n",
    "'curassets6', 'curassets7', 'curassets8', 'curassets9','curassets10','curassets11',\n",
    "'Itassets','Itassets1','Itassets2','Itassets3','Itassets4','Itassets5' ,'Itassets6', 'Itassets7',\n",
    "‘|tassets8’, ‘Itassets9\", ‘Itassetsi0', ‘Itassetsi1','Itassets!2’, ‘Itassets13', finassets’,# 7\n",
    "al ‘Tiab’,curliab’, ‘curliabl’, ‘curliab2\", ‘curliab3',‘curliabd',’curliabS', #7\n",
    "\n",
    "은 ‘curl iab6', ‘curliab?', ‘curliab8', ‘curliab9’, ‘curliabiO', ‘curliabll’,*curliabl2’,curliabl3', #2\n",
    "23 “Itliab’, Ithiabl',\"Itliab2’, lteliab3’,Itliab4a’,“ItliabS\", Itliab6', # 7\n",
    "\n",
    "24 “Itlhiab7*.\"Itliab@’,Itliab9’,IthiabiO’, ‘Itliabll'.Itliabi2°, finliab’, #7\n",
    "\n",
    "25 ‘equity’, ‘equityl’, “equity2', ‘equity3’, ‘equity4’, equityS’, equity6’, ‘equity?’ , ‘equitya’) #9"
   ]
  }
 ],
 "metadata": {
  "kernelspec": {
   "display_name": "Python 3",
   "language": "python",
   "name": "python3"
  },
  "language_info": {
   "codemirror_mode": {
    "name": "ipython",
    "version": 3
   },
   "file_extension": ".py",
   "mimetype": "text/x-python",
   "name": "python",
   "nbconvert_exporter": "python",
   "pygments_lexer": "ipython3",
   "version": "3.8.8"
  }
 },
 "nbformat": 4,
 "nbformat_minor": 5
}
